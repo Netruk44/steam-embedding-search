{
 "cells": [
  {
   "cell_type": "markdown",
   "metadata": {},
   "source": [
    "## SteamAPI"
   ]
  },
  {
   "cell_type": "code",
   "execution_count": 1,
   "metadata": {},
   "outputs": [],
   "source": [
    "from steamapi import get_game_list, get_app_details, get_n_reviews\n",
    "import logging\n",
    "\n",
    "logging.basicConfig(level=logging.DEBUG)"
   ]
  },
  {
   "cell_type": "markdown",
   "metadata": {},
   "source": [
    "### Game list"
   ]
  },
  {
   "cell_type": "code",
   "execution_count": 2,
   "metadata": {},
   "outputs": [
    {
     "name": "stderr",
     "output_type": "stream",
     "text": [
      "DEBUG:root:Getting game list from Steam API\n",
      "DEBUG:root:Calling API: https://api.steampowered.com/ISteamApps/GetAppList/v2/\n",
      "DEBUG:root:Params: {'format': 'json'}\n",
      "DEBUG:urllib3.connectionpool:Starting new HTTPS connection (1): api.steampowered.com:443\n",
      "DEBUG:urllib3.connectionpool:https://api.steampowered.com:443 \"GET /ISteamApps/GetAppList/v2/?format=json HTTP/1.1\" 200 2772200\n",
      "INFO:root:Found 180495 games on in steam app list.\n"
     ]
    }
   ],
   "source": [
    "game_list = get_game_list()"
   ]
  },
  {
   "cell_type": "markdown",
   "metadata": {},
   "source": [
    "### App Details"
   ]
  },
  {
   "cell_type": "code",
   "execution_count": 6,
   "metadata": {},
   "outputs": [
    {
     "data": {
      "text/plain": [
       "{'appid': 748280, 'name': 'Klondike Solitaire Kings - Money Cat'}"
      ]
     },
     "execution_count": 6,
     "metadata": {},
     "output_type": "execute_result"
    }
   ],
   "source": [
    "example_app = game_list[1234]\n",
    "\n",
    "example_app"
   ]
  },
  {
   "cell_type": "code",
   "execution_count": 7,
   "metadata": {},
   "outputs": [
    {
     "name": "stderr",
     "output_type": "stream",
     "text": [
      "INFO:root:Getting details for appid 748280\n",
      "DEBUG:root:Calling API: https://store.steampowered.com/api/appdetails\n",
      "DEBUG:root:Params: {'appids': 748280}\n",
      "DEBUG:urllib3.connectionpool:Starting new HTTPS connection (1): store.steampowered.com:443\n",
      "DEBUG:urllib3.connectionpool:https://store.steampowered.com:443 \"GET /api/appdetails?appids=748280 HTTP/1.1\" 200 1753\n"
     ]
    },
    {
     "data": {
      "text/plain": [
       "{'type': 'dlc',\n",
       " 'name': 'Klondike Solitaire Kings - Money Cat',\n",
       " 'steam_appid': 748280,\n",
       " 'required_age': 0,\n",
       " 'is_free': False,\n",
       " 'detailed_description': 'Famous Card game also known as Klondike.<br />\\r\\nWe kept the game true to the spirit of the classic Solitaire (also known as Klondike or Patience)<br />\\r\\nKlondike Solitaire Kings features a beautiful custom designed card set in high resolution with 300+ levels, playing Patience on your desktop never looked this good!<br />\\r\\n<br />\\r\\nFeatures:<br />\\r\\n<br />\\r\\nFun Addicting Games of Solitaire Classic<br />\\r\\n300+ levels<br />\\r\\nKlondike Solitaire Draw 1 card<br />\\r\\nKlondike Solitaire Draw 3 cards<br />\\r\\nWinning Deals: Increase the challenge<br />\\r\\nVegas Cumulative: Keep your score rolling over<br />\\r\\nAddicting, unique ways to play<br />\\r\\nCustomizable beautiful themes<br />\\r\\nDaily challenges with different levels<br />\\r\\nClean and user-friendly menus<br />\\r\\nBig and easy to see cards<br />\\r\\nAuto-collect cards on completion<br />\\r\\nFeature to UNDO moves<br />\\r\\nFeature to use hints<br />\\r\\nStandard or Vegas scoring',\n",
       " 'about_the_game': 'Famous Card game also known as Klondike.<br />\\r\\nWe kept the game true to the spirit of the classic Solitaire (also known as Klondike or Patience)<br />\\r\\nKlondike Solitaire Kings features a beautiful custom designed card set in high resolution with 300+ levels, playing Patience on your desktop never looked this good!<br />\\r\\n<br />\\r\\nFeatures:<br />\\r\\n<br />\\r\\nFun Addicting Games of Solitaire Classic<br />\\r\\n300+ levels<br />\\r\\nKlondike Solitaire Draw 1 card<br />\\r\\nKlondike Solitaire Draw 3 cards<br />\\r\\nWinning Deals: Increase the challenge<br />\\r\\nVegas Cumulative: Keep your score rolling over<br />\\r\\nAddicting, unique ways to play<br />\\r\\nCustomizable beautiful themes<br />\\r\\nDaily challenges with different levels<br />\\r\\nClean and user-friendly menus<br />\\r\\nBig and easy to see cards<br />\\r\\nAuto-collect cards on completion<br />\\r\\nFeature to UNDO moves<br />\\r\\nFeature to use hints<br />\\r\\nStandard or Vegas scoring',\n",
       " 'short_description': 'Famous Card game also known as Klondike. We kept the game true to the spirit of the classic Solitaire (also known as Klondike or Patience) Klondike Solitaire Kings - Money Cat features a beautiful custom designed card set in high resolution with 300+ levels, playing Patience on your desktop never looked this good!',\n",
       " 'fullgame': {'appid': '690670', 'name': 'Klondike Solitaire Kings'},\n",
       " 'supported_languages': 'English',\n",
       " 'header_image': 'https://cdn.akamai.steamstatic.com/steam/apps/748280/header.jpg?t=1542016666',\n",
       " 'capsule_image': 'https://cdn.akamai.steamstatic.com/steam/apps/748280/capsule_231x87.jpg?t=1542016666',\n",
       " 'capsule_imagev5': 'https://cdn.akamai.steamstatic.com/steam/apps/748280/capsule_184x69.jpg?t=1542016666',\n",
       " 'website': None,\n",
       " 'pc_requirements': {'minimum': '<strong>Minimum:</strong><br><ul class=\"bb_ul\"><li><strong>OS:</strong> Windows XP, Vista, 7, 8, 10<br></li><li><strong>Processor:</strong> Pentium 4 or higher, 2GHz<br></li><li><strong>Memory:</strong> 1 GB RAM<br></li><li><strong>Graphics:</strong> 128MB or higher<br></li><li><strong>Storage:</strong> 70 MB available space</li></ul>'},\n",
       " 'mac_requirements': [],\n",
       " 'linux_requirements': [],\n",
       " 'developers': ['Klondike Solitaire Kings'],\n",
       " 'publishers': ['Klondike Solitaire Kings'],\n",
       " 'price_overview': {'currency': 'USD',\n",
       "  'initial': 299,\n",
       "  'final': 299,\n",
       "  'discount_percent': 0,\n",
       "  'initial_formatted': '',\n",
       "  'final_formatted': '$2.99'},\n",
       " 'packages': [219678],\n",
       " 'package_groups': [{'name': 'default',\n",
       "   'title': 'Buy Klondike Solitaire Kings - Money Cat',\n",
       "   'description': '',\n",
       "   'selection_text': 'Select a purchase option',\n",
       "   'save_text': '',\n",
       "   'display_type': 0,\n",
       "   'is_recurring_subscription': 'false',\n",
       "   'subs': [{'packageid': 219678,\n",
       "     'percent_savings_text': ' ',\n",
       "     'percent_savings': 0,\n",
       "     'option_text': 'Klondike Solitaire Kings - Money Cat - $2.99',\n",
       "     'option_description': '',\n",
       "     'can_get_free_license': '0',\n",
       "     'is_free_license': False,\n",
       "     'price_in_cents_with_discount': 299}]}],\n",
       " 'platforms': {'windows': True, 'mac': False, 'linux': False},\n",
       " 'categories': [{'id': 2, 'description': 'Single-player'},\n",
       "  {'id': 21, 'description': 'Downloadable Content'}],\n",
       " 'genres': [{'id': '25', 'description': 'Adventure'},\n",
       "  {'id': '4', 'description': 'Casual'},\n",
       "  {'id': '23', 'description': 'Indie'},\n",
       "  {'id': '3', 'description': 'RPG'},\n",
       "  {'id': '28', 'description': 'Simulation'},\n",
       "  {'id': '18', 'description': 'Sports'},\n",
       "  {'id': '2', 'description': 'Strategy'}],\n",
       " 'screenshots': [{'id': 0,\n",
       "   'path_thumbnail': 'https://cdn.akamai.steamstatic.com/steam/apps/748280/ss_22067485df605317f0d3d9c604bc7401c21938fc.600x338.jpg?t=1542016666',\n",
       "   'path_full': 'https://cdn.akamai.steamstatic.com/steam/apps/748280/ss_22067485df605317f0d3d9c604bc7401c21938fc.1920x1080.jpg?t=1542016666'},\n",
       "  {'id': 1,\n",
       "   'path_thumbnail': 'https://cdn.akamai.steamstatic.com/steam/apps/748280/ss_efe3d20e57faa173e7c480123ca8ed8ac2b2c457.600x338.jpg?t=1542016666',\n",
       "   'path_full': 'https://cdn.akamai.steamstatic.com/steam/apps/748280/ss_efe3d20e57faa173e7c480123ca8ed8ac2b2c457.1920x1080.jpg?t=1542016666'},\n",
       "  {'id': 2,\n",
       "   'path_thumbnail': 'https://cdn.akamai.steamstatic.com/steam/apps/748280/ss_7cef9da65070800c3eb182cad61cd464c70ff266.600x338.jpg?t=1542016666',\n",
       "   'path_full': 'https://cdn.akamai.steamstatic.com/steam/apps/748280/ss_7cef9da65070800c3eb182cad61cd464c70ff266.1920x1080.jpg?t=1542016666'},\n",
       "  {'id': 3,\n",
       "   'path_thumbnail': 'https://cdn.akamai.steamstatic.com/steam/apps/748280/ss_4b217cfae583f48c384d4af1c853a83aac0b2d32.600x338.jpg?t=1542016666',\n",
       "   'path_full': 'https://cdn.akamai.steamstatic.com/steam/apps/748280/ss_4b217cfae583f48c384d4af1c853a83aac0b2d32.1920x1080.jpg?t=1542016666'},\n",
       "  {'id': 4,\n",
       "   'path_thumbnail': 'https://cdn.akamai.steamstatic.com/steam/apps/748280/ss_9a4947b9af3e681477dc19315914533ee8aa6ca5.600x338.jpg?t=1542016666',\n",
       "   'path_full': 'https://cdn.akamai.steamstatic.com/steam/apps/748280/ss_9a4947b9af3e681477dc19315914533ee8aa6ca5.1920x1080.jpg?t=1542016666'}],\n",
       " 'release_date': {'coming_soon': False, 'date': 'Nov 3, 2017'},\n",
       " 'support_info': {'url': '', 'email': 'synsyngames@gmail.com'},\n",
       " 'background': 'https://cdn.akamai.steamstatic.com/steam/apps/748280/page_bg_generated_v6b.jpg?t=1542016666',\n",
       " 'background_raw': 'https://cdn.akamai.steamstatic.com/steam/apps/748280/page_bg_generated.jpg?t=1542016666',\n",
       " 'content_descriptors': {'ids': [], 'notes': None}}"
      ]
     },
     "execution_count": 7,
     "metadata": {},
     "output_type": "execute_result"
    }
   ],
   "source": [
    "game_details = get_app_details(example_app['appid'])\n",
    "\n",
    "game_details"
   ]
  },
  {
   "cell_type": "code",
   "execution_count": 8,
   "metadata": {},
   "outputs": [
    {
     "data": {
      "text/plain": [
       "(748280,\n",
       " 'Famous Card game also known as Klondike.<br />\\r\\nWe kept the game true to the spirit of the classic Solitaire (also known as Klondike or Patience)<br />\\r\\nKlondike Solitaire Kings features a beautiful custom designed card set in high resolution with 300+ levels, playing Patience on your desktop never looked this good!<br />\\r\\n<br />\\r\\nFeatures:<br />\\r\\n<br />\\r\\nFun Addicting Games of Solitaire Classic<br />\\r\\n300+ levels<br />\\r\\nKlondike Solitaire Draw 1 card<br />\\r\\nKlondike Solitaire Draw 3 cards<br />\\r\\nWinning Deals: Increase the challenge<br />\\r\\nVegas Cumulative: Keep your score rolling over<br />\\r\\nAddicting, unique ways to play<br />\\r\\nCustomizable beautiful themes<br />\\r\\nDaily challenges with different levels<br />\\r\\nClean and user-friendly menus<br />\\r\\nBig and easy to see cards<br />\\r\\nAuto-collect cards on completion<br />\\r\\nFeature to UNDO moves<br />\\r\\nFeature to use hints<br />\\r\\nStandard or Vegas scoring')"
      ]
     },
     "execution_count": 8,
     "metadata": {},
     "output_type": "execute_result"
    }
   ],
   "source": [
    "(game_details[\"steam_appid\"], game_details[\"detailed_description\"])"
   ]
  },
  {
   "cell_type": "markdown",
   "metadata": {},
   "source": [
    "### App Reviews"
   ]
  },
  {
   "cell_type": "code",
   "execution_count": 10,
   "metadata": {},
   "outputs": [
    {
     "data": {
      "text/plain": [
       "{'appid': 750380, 'name': \"Dead by Daylight - David's Donkey Jacket\"}"
      ]
     },
     "execution_count": 10,
     "metadata": {},
     "output_type": "execute_result"
    }
   ],
   "source": [
    "example_app = game_list[1111]\n",
    "\n",
    "example_app"
   ]
  },
  {
   "cell_type": "code",
   "execution_count": 3,
   "metadata": {},
   "outputs": [
    {
     "name": "stderr",
     "output_type": "stream",
     "text": [
      "DEBUG:root:Getting reviews for appid 100\n",
      "DEBUG:root:Calling API: https://store.steampowered.com/appreviews/100\n",
      "DEBUG:root:Params: {'json': 1, 'filter': 'all', 'language': 'english', 'review_type': 'all', 'purchase_type': 'all', 'cursor': b'*', 'num_per_page': 1}\n",
      "DEBUG:urllib3.connectionpool:Starting new HTTPS connection (1): store.steampowered.com:443\n",
      "DEBUG:urllib3.connectionpool:https://store.steampowered.com:443 \"GET /appreviews/100?json=1&filter=all&language=english&review_type=all&purchase_type=all&cursor=%2A&num_per_page=1 HTTP/1.1\" 200 473\n",
      "INFO:root:Found 1 reviews for appid 100\n"
     ]
    },
    {
     "data": {
      "text/plain": [
       "{'recommendationid': '149199541',\n",
       " 'author': {'steamid': '76561199384534578',\n",
       "  'num_games_owned': 115,\n",
       "  'num_reviews': 30,\n",
       "  'playtime_forever': 58,\n",
       "  'playtime_last_two_weeks': 0,\n",
       "  'playtime_at_review': 58,\n",
       "  'last_played': 1692620482},\n",
       " 'language': 'english',\n",
       " 'review': \"Answer to the people who say CS Doesn't have a lore\",\n",
       " 'timestamp_created': 1698680047,\n",
       " 'timestamp_updated': 1698680047,\n",
       " 'voted_up': True,\n",
       " 'votes_up': 3,\n",
       " 'votes_funny': 0,\n",
       " 'weighted_vote_score': '0.555555582046508789',\n",
       " 'comment_count': 1,\n",
       " 'steam_purchase': True,\n",
       " 'received_for_free': False,\n",
       " 'written_during_early_access': False,\n",
       " 'hidden_in_steam_china': True,\n",
       " 'steam_china_location': ''}"
      ]
     },
     "execution_count": 3,
     "metadata": {},
     "output_type": "execute_result"
    }
   ],
   "source": [
    "#reviews = get_n_reviews(example_app['appid'], 1)\n",
    "reviews = get_n_reviews('100', 1)\n",
    "\n",
    "reviews[0]"
   ]
  },
  {
   "cell_type": "code",
   "execution_count": null,
   "metadata": {},
   "outputs": [],
   "source": []
  }
 ],
 "metadata": {
  "kernelspec": {
   "display_name": ".venv",
   "language": "python",
   "name": "python3"
  },
  "language_info": {
   "codemirror_mode": {
    "name": "ipython",
    "version": 3
   },
   "file_extension": ".py",
   "mimetype": "text/x-python",
   "name": "python",
   "nbconvert_exporter": "python",
   "pygments_lexer": "ipython3",
   "version": "3.11.6"
  }
 },
 "nbformat": 4,
 "nbformat_minor": 2
}
