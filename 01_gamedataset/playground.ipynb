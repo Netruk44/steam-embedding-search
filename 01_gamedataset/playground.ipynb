{
 "cells": [
  {
   "cell_type": "markdown",
   "metadata": {},
   "source": [
    "## SteamAPI"
   ]
  },
  {
   "cell_type": "code",
   "execution_count": 1,
   "metadata": {},
   "outputs": [],
   "source": [
    "from steamapi import get_game_list, get_app_details, get_n_reviews\n",
    "import logging\n",
    "\n",
    "logging.basicConfig(level=logging.DEBUG)"
   ]
  },
  {
   "cell_type": "markdown",
   "metadata": {},
   "source": [
    "### Game list"
   ]
  },
  {
   "cell_type": "code",
   "execution_count": 2,
   "metadata": {},
   "outputs": [
    {
     "name": "stderr",
     "output_type": "stream",
     "text": [
      "DEBUG:root:Getting game list from Steam API\n",
      "DEBUG:root:Calling API: https://api.steampowered.com/ISteamApps/GetAppList/v2/\n",
      "DEBUG:root:Params: {'format': 'json'}\n",
      "DEBUG:urllib3.connectionpool:Starting new HTTPS connection (1): api.steampowered.com:443\n",
      "DEBUG:urllib3.connectionpool:https://api.steampowered.com:443 \"GET /ISteamApps/GetAppList/v2/?format=json HTTP/1.1\" 200 2772200\n",
      "INFO:root:Found 180495 games on in steam app list.\n"
     ]
    }
   ],
   "source": [
    "game_list = get_game_list()"
   ]
  },
  {
   "cell_type": "markdown",
   "metadata": {},
   "source": [
    "### App Details"
   ]
  },
  {
   "cell_type": "code",
   "execution_count": 6,
   "metadata": {},
   "outputs": [
    {
     "data": {
      "text/plain": [
       "{'appid': 748280, 'name': 'Klondike Solitaire Kings - Money Cat'}"
      ]
     },
     "execution_count": 6,
     "metadata": {},
     "output_type": "execute_result"
    }
   ],
   "source": [
    "example_app = game_list[1234]\n",
    "\n",
    "example_app"
   ]
  },
  {
   "cell_type": "code",
   "execution_count": 13,
   "metadata": {},
   "outputs": [
    {
     "name": "stderr",
     "output_type": "stream",
     "text": [
      "DEBUG:root:Getting details for appid 489830\n",
      "DEBUG:root:Calling API: https://store.steampowered.com/api/appdetails\n",
      "DEBUG:root:Params: {'appids': 489830}\n",
      "DEBUG:urllib3.connectionpool:Starting new HTTPS connection (1): store.steampowered.com:443\n",
      "DEBUG:urllib3.connectionpool:https://store.steampowered.com:443 \"GET /api/appdetails?appids=489830 HTTP/1.1\" 200 3444\n"
     ]
    },
    {
     "data": {
      "text/plain": [
       "{'type': 'game',\n",
       " 'name': 'The Elder Scrolls V: Skyrim Special Edition',\n",
       " 'steam_appid': 489830,\n",
       " 'required_age': '17',\n",
       " 'is_free': False,\n",
       " 'dlc': [1746860],\n",
       " 'detailed_description': '<h1>The Elder Scrolls V: Skyrim Anniversary Edition</h1><p><img src=\"https://cdn.akamai.steamstatic.com/steam/apps/489830/extras/Skyrim-AnnivEdition_Steam_MainCapsule_616x353-01.jpg?t=1701807334\" /><br><br>The Anniversary Edition includes a decade worth of content: the critically acclaimed core game and add-ons of Skyrim Special Edition, plus Creation Club content released on or prior to November 11, 2021 - including quests, dungeons, bosses, weapons, spells, and more.<br><br>For a full list of Creation Club content included read <a href=\"https://steamcommunity.com/linkfilter/?u=https%3A%2F%2Fbethesda.net%2Fen%2Farticle%2F3mxTW4iQYGrVZrWRqVfomQ%2Fskyrim-anniversary-edition-and-creation-club-content-first-look\" target=\"_blank\" rel=\" noopener\"  >here</a>.</p><br><h1>Creation Kit</h1><p><a href=\"https://store.steampowered.com/app/1946180/Skyrim_Special_Edition_Creation_Kit/\" target=\"_blank\" rel=\"\"  id=\"dynamiclink_0\" >https://store.steampowered.com/app/1946180/Skyrim_Special_Edition_Creation_Kit/</a></p><br><h1>About the Game</h1>Winner of more than 200 Game of the Year Awards, The Elder Scrolls V: Skyrim Special Edition brings the epic fantasy to life in stunning detail. The Special Edition includes the critically acclaimed game and add-ons with all-new features like remastered art and effects, volumetric god rays, dynamic depth of field, screen-space reflections, and more. <br><br>Skyrim Special Edition also brings the power of Bethesda Game Studios Creations to PC and consoles. New quests, environments, characters, dialogue, armor, weapons and more – with Creations, there are no limits to what you can experience.',\n",
       " 'about_the_game': 'Winner of more than 200 Game of the Year Awards, The Elder Scrolls V: Skyrim Special Edition brings the epic fantasy to life in stunning detail. The Special Edition includes the critically acclaimed game and add-ons with all-new features like remastered art and effects, volumetric god rays, dynamic depth of field, screen-space reflections, and more. <br />\\r\\n<br />\\r\\nSkyrim Special Edition also brings the power of Bethesda Game Studios Creations to PC and consoles. New quests, environments, characters, dialogue, armor, weapons and more – with Creations, there are no limits to what you can experience.',\n",
       " 'short_description': 'Winner of more than 200 Game of the Year Awards, The Elder Scrolls V: Skyrim Special Edition brings the epic fantasy to life in stunning detail. The Special Edition includes the critically acclaimed game and add-ons with all-new features.',\n",
       " 'supported_languages': 'English<strong>*</strong>, French<strong>*</strong>, Italian<strong>*</strong>, German<strong>*</strong>, Spanish - Spain<strong>*</strong>, Polish<strong>*</strong>, Traditional Chinese, Russian<strong>*</strong>, Japanese<strong>*</strong><br><strong>*</strong>languages with full audio support',\n",
       " 'header_image': 'https://cdn.akamai.steamstatic.com/steam/apps/489830/header.jpg?t=1701807334',\n",
       " 'capsule_image': 'https://cdn.akamai.steamstatic.com/steam/apps/489830/capsule_231x87.jpg?t=1701807334',\n",
       " 'capsule_imagev5': 'https://cdn.akamai.steamstatic.com/steam/apps/489830/capsule_184x69.jpg?t=1701807334',\n",
       " 'website': None,\n",
       " 'pc_requirements': {'minimum': '<strong>Minimum:</strong><br><ul class=\"bb_ul\"><li><strong>OS *:</strong> Windows 7/8.1/10 (64-bit Version)<br></li><li><strong>Processor:</strong> Intel i5-750/AMD Phenom II X4-945<br></li><li><strong>Memory:</strong> 8 GB RAM<br></li><li><strong>Graphics:</strong> NVIDIA GTX 470 1GB /AMD HD 7870 2GB<br></li><li><strong>Storage:</strong> 12 GB available space</li></ul>',\n",
       "  'recommended': '<strong>Recommended:</strong><br><ul class=\"bb_ul\"><li><strong>OS *:</strong> Windows 7/8.1/10 (64-bit Version)<br></li><li><strong>Processor:</strong> Intel i5-2400/AMD FX-8320<br></li><li><strong>Memory:</strong> 8 GB RAM<br></li><li><strong>Graphics:</strong> NVIDIA GTX 780 3GB /AMD R9 290 4GB<br></li><li><strong>Storage:</strong> 12 GB available space</li></ul>'},\n",
       " 'mac_requirements': [],\n",
       " 'linux_requirements': [],\n",
       " 'legal_notice': '© 2016 Bethesda Softworks LLC, a ZeniMax Media company. The Elder Scrolls, Skyrim, Bethesda, Bethesda Game Studios, Bethesda Softworks, ZeniMax and related logos are registered trademarks or trademarks of ZeniMax Media Inc. in the U.S. and/or other countries. All Rights Reserved.<br><br><a href=\"https://steamcommunity.com/linkfilter/?u=https%3A%2F%2Fbethesda.net%2Fdocument%2Fprivacy-policy\" target=\"_blank\" rel=\" noopener\"  >Privacy Policy</a>',\n",
       " 'developers': ['Bethesda Game Studios'],\n",
       " 'publishers': ['Bethesda Softworks'],\n",
       " 'price_overview': {'currency': 'CAD',\n",
       "  'initial': 5349,\n",
       "  'final': 1069,\n",
       "  'discount_percent': 80,\n",
       "  'initial_formatted': 'CDN$ 53.49',\n",
       "  'final_formatted': 'CDN$ 10.69'},\n",
       " 'packages': [110687, 626153],\n",
       " 'package_groups': [{'name': 'default',\n",
       "   'title': 'Buy The Elder Scrolls V: Skyrim Special Edition',\n",
       "   'description': '',\n",
       "   'selection_text': 'Select a purchase option',\n",
       "   'save_text': '',\n",
       "   'display_type': 0,\n",
       "   'is_recurring_subscription': 'false',\n",
       "   'subs': [{'packageid': 110687,\n",
       "     'percent_savings_text': '-80% ',\n",
       "     'percent_savings': 0,\n",
       "     'option_text': 'The Elder Scrolls V: Skyrim Special Edition - <span class=\"discount_original_price\">CDN$ 53.49</span> CDN$ 10.69',\n",
       "     'option_description': '',\n",
       "     'can_get_free_license': '0',\n",
       "     'is_free_license': False,\n",
       "     'price_in_cents_with_discount': 1069},\n",
       "    {'packageid': 626153,\n",
       "     'percent_savings_text': '-60% ',\n",
       "     'percent_savings': 0,\n",
       "     'option_text': 'The Elder Scrolls V: Skyrim Anniversary Edition - <span class=\"discount_original_price\">CDN$ 66.99</span> CDN$ 26.79',\n",
       "     'option_description': '',\n",
       "     'can_get_free_license': '0',\n",
       "     'is_free_license': False,\n",
       "     'price_in_cents_with_discount': 2679}]}],\n",
       " 'platforms': {'windows': True, 'mac': False, 'linux': False},\n",
       " 'metacritic': {'score': 74,\n",
       "  'url': 'https://www.metacritic.com/game/pc/the-elder-scrolls-v-skyrim-special-edition?ftag=MCD-06-10aaa1f'},\n",
       " 'categories': [{'id': 2, 'description': 'Single-player'},\n",
       "  {'id': 22, 'description': 'Steam Achievements'},\n",
       "  {'id': 18, 'description': 'Partial Controller Support'},\n",
       "  {'id': 23, 'description': 'Steam Cloud'},\n",
       "  {'id': 41, 'description': 'Remote Play on Phone'},\n",
       "  {'id': 42, 'description': 'Remote Play on Tablet'}],\n",
       " 'genres': [{'id': '3', 'description': 'RPG'}],\n",
       " 'screenshots': [{'id': 0,\n",
       "   'path_thumbnail': 'https://cdn.akamai.steamstatic.com/steam/apps/489830/ss_73c1a0bb7e1720c8a1847186c3ddd837d3ca7a8d.600x338.jpg?t=1701807334',\n",
       "   'path_full': 'https://cdn.akamai.steamstatic.com/steam/apps/489830/ss_73c1a0bb7e1720c8a1847186c3ddd837d3ca7a8d.1920x1080.jpg?t=1701807334'},\n",
       "  {'id': 1,\n",
       "   'path_thumbnail': 'https://cdn.akamai.steamstatic.com/steam/apps/489830/ss_d64b646612ab1402bdda8e400672aa0dbcb352ea.600x338.jpg?t=1701807334',\n",
       "   'path_full': 'https://cdn.akamai.steamstatic.com/steam/apps/489830/ss_d64b646612ab1402bdda8e400672aa0dbcb352ea.1920x1080.jpg?t=1701807334'},\n",
       "  {'id': 2,\n",
       "   'path_thumbnail': 'https://cdn.akamai.steamstatic.com/steam/apps/489830/ss_b6bb6f79278505b3f48567f08c21f7a0eb171c68.600x338.jpg?t=1701807334',\n",
       "   'path_full': 'https://cdn.akamai.steamstatic.com/steam/apps/489830/ss_b6bb6f79278505b3f48567f08c21f7a0eb171c68.1920x1080.jpg?t=1701807334'},\n",
       "  {'id': 3,\n",
       "   'path_thumbnail': 'https://cdn.akamai.steamstatic.com/steam/apps/489830/ss_921ccea650df936a0b14ebd5dd4ecc73c1d2a12d.600x338.jpg?t=1701807334',\n",
       "   'path_full': 'https://cdn.akamai.steamstatic.com/steam/apps/489830/ss_921ccea650df936a0b14ebd5dd4ecc73c1d2a12d.1920x1080.jpg?t=1701807334'},\n",
       "  {'id': 4,\n",
       "   'path_thumbnail': 'https://cdn.akamai.steamstatic.com/steam/apps/489830/ss_8c7ecd394afb581b9b2137a3de04433f78fdf4ea.600x338.jpg?t=1701807334',\n",
       "   'path_full': 'https://cdn.akamai.steamstatic.com/steam/apps/489830/ss_8c7ecd394afb581b9b2137a3de04433f78fdf4ea.1920x1080.jpg?t=1701807334'},\n",
       "  {'id': 5,\n",
       "   'path_thumbnail': 'https://cdn.akamai.steamstatic.com/steam/apps/489830/ss_50c3da9e29e9b0368889379cdd03a71aba8d614c.600x338.jpg?t=1701807334',\n",
       "   'path_full': 'https://cdn.akamai.steamstatic.com/steam/apps/489830/ss_50c3da9e29e9b0368889379cdd03a71aba8d614c.1920x1080.jpg?t=1701807334'},\n",
       "  {'id': 6,\n",
       "   'path_thumbnail': 'https://cdn.akamai.steamstatic.com/steam/apps/489830/ss_2ca72f4ecc42a18dd4bf056c539a9794c2b2493d.600x338.jpg?t=1701807334',\n",
       "   'path_full': 'https://cdn.akamai.steamstatic.com/steam/apps/489830/ss_2ca72f4ecc42a18dd4bf056c539a9794c2b2493d.1920x1080.jpg?t=1701807334'},\n",
       "  {'id': 7,\n",
       "   'path_thumbnail': 'https://cdn.akamai.steamstatic.com/steam/apps/489830/ss_5d19c69d33abca6f6271d75f371d4241c0d6b2d1.600x338.jpg?t=1701807334',\n",
       "   'path_full': 'https://cdn.akamai.steamstatic.com/steam/apps/489830/ss_5d19c69d33abca6f6271d75f371d4241c0d6b2d1.1920x1080.jpg?t=1701807334'}],\n",
       " 'movies': [{'id': 256672927,\n",
       "   'name': 'Skyrim Special Edition Trailer',\n",
       "   'thumbnail': 'https://cdn.akamai.steamstatic.com/steam/apps/256672927/movie.293x165.jpg?t=1476991615',\n",
       "   'webm': {'480': 'http://cdn.akamai.steamstatic.com/steam/apps/256672927/movie480.webm?t=1476991615',\n",
       "    'max': 'http://cdn.akamai.steamstatic.com/steam/apps/256672927/movie_max.webm?t=1476991615'},\n",
       "   'mp4': {'480': 'http://cdn.akamai.steamstatic.com/steam/apps/256672927/movie480.mp4?t=1476991615',\n",
       "    'max': 'http://cdn.akamai.steamstatic.com/steam/apps/256672927/movie_max.mp4?t=1476991615'},\n",
       "   'highlight': True},\n",
       "  {'id': 256672841,\n",
       "   'name': 'Skyrim SE Live Action Trailer',\n",
       "   'thumbnail': 'https://cdn.akamai.steamstatic.com/steam/apps/256672841/movie.293x165.jpg?t=1476909226',\n",
       "   'webm': {'480': 'http://cdn.akamai.steamstatic.com/steam/apps/256672841/movie480.webm?t=1476909226',\n",
       "    'max': 'http://cdn.akamai.steamstatic.com/steam/apps/256672841/movie_max.webm?t=1476909226'},\n",
       "   'mp4': {'480': 'http://cdn.akamai.steamstatic.com/steam/apps/256672841/movie480.mp4?t=1476909226',\n",
       "    'max': 'http://cdn.akamai.steamstatic.com/steam/apps/256672841/movie_max.mp4?t=1476909226'},\n",
       "   'highlight': True}],\n",
       " 'recommendations': {'total': 148296},\n",
       " 'achievements': {'total': 75,\n",
       "  'highlighted': [{'name': 'Unbound',\n",
       "    'path': 'https://cdn.akamai.steamstatic.com/steamcommunity/public/images/apps/489830/0a1b47b28556ff20ec88acc0aca0ef6793cd5383.jpg'},\n",
       "   {'name': 'Bleak Falls Barrow',\n",
       "    'path': 'https://cdn.akamai.steamstatic.com/steamcommunity/public/images/apps/489830/47f8b520d258247d69e46592e6790e17df0ed5f5.jpg'},\n",
       "   {'name': 'The Way of the Voice',\n",
       "    'path': 'https://cdn.akamai.steamstatic.com/steamcommunity/public/images/apps/489830/d7feacd4f001a31b316b50f5f5ac051c82c40844.jpg'},\n",
       "   {'name': 'Diplomatic Immunity',\n",
       "    'path': 'https://cdn.akamai.steamstatic.com/steamcommunity/public/images/apps/489830/d23c6bf6e8f6dff395a228e1a7aa2711fcfcdcc3.jpg'},\n",
       "   {'name': \"Alduin's Wall\",\n",
       "    'path': 'https://cdn.akamai.steamstatic.com/steamcommunity/public/images/apps/489830/155eb8a774d15dde14afd25877658f73f33b2334.jpg'},\n",
       "   {'name': 'Elder Knowledge',\n",
       "    'path': 'https://cdn.akamai.steamstatic.com/steamcommunity/public/images/apps/489830/b38012583bd139ec05e79fee602c40f5b15e3654.jpg'},\n",
       "   {'name': 'The Fallen',\n",
       "    'path': 'https://cdn.akamai.steamstatic.com/steamcommunity/public/images/apps/489830/cb5e5bcdb7f03fb09db3dfffdc6f12b6f384925a.jpg'},\n",
       "   {'name': 'Dragonslayer',\n",
       "    'path': 'https://cdn.akamai.steamstatic.com/steamcommunity/public/images/apps/489830/8d831c49ad6312f798b938aefd6fd2f6e0dda0ac.jpg'},\n",
       "   {'name': 'Take Up Arms',\n",
       "    'path': 'https://cdn.akamai.steamstatic.com/steamcommunity/public/images/apps/489830/960f34c39956c147aa55a050c407b059a8e86b8b.jpg'},\n",
       "   {'name': 'Blood Oath',\n",
       "    'path': 'https://cdn.akamai.steamstatic.com/steamcommunity/public/images/apps/489830/57cbdf88fc096bed3ed8af57912a010ce6830f54.jpg'}]},\n",
       " 'release_date': {'coming_soon': False, 'date': '27 Oct, 2016'},\n",
       " 'support_info': {'url': 'http://help.bethesda.net/', 'email': ''},\n",
       " 'background': 'https://cdn.akamai.steamstatic.com/steam/apps/489830/page_bg_generated_v6b.jpg?t=1701807334',\n",
       " 'background_raw': 'https://cdn.akamai.steamstatic.com/steam/apps/489830/page.bg.jpg?t=1701807334',\n",
       " 'content_descriptors': {'ids': [1, 5],\n",
       "  'notes': 'Skyrim contains Blood and Gore, Intense Violence, Sexual Themes, Use of Alcohol, and Language.'}}"
      ]
     },
     "execution_count": 13,
     "metadata": {},
     "output_type": "execute_result"
    }
   ],
   "source": [
    "#game_details = get_app_details(example_app['appid'])\n",
    "game_details = get_app_details(489830)\n",
    "\n",
    "game_details"
   ]
  },
  {
   "cell_type": "code",
   "execution_count": 11,
   "metadata": {},
   "outputs": [
    {
     "data": {
      "text/plain": [
       "'[1, 2, 5]'"
      ]
     },
     "execution_count": 11,
     "metadata": {},
     "output_type": "execute_result"
    }
   ],
   "source": [
    "str(game_details['content_descriptors']['ids'])"
   ]
  },
  {
   "cell_type": "code",
   "execution_count": 8,
   "metadata": {},
   "outputs": [
    {
     "data": {
      "text/plain": [
       "(748280,\n",
       " 'Famous Card game also known as Klondike.<br />\\r\\nWe kept the game true to the spirit of the classic Solitaire (also known as Klondike or Patience)<br />\\r\\nKlondike Solitaire Kings features a beautiful custom designed card set in high resolution with 300+ levels, playing Patience on your desktop never looked this good!<br />\\r\\n<br />\\r\\nFeatures:<br />\\r\\n<br />\\r\\nFun Addicting Games of Solitaire Classic<br />\\r\\n300+ levels<br />\\r\\nKlondike Solitaire Draw 1 card<br />\\r\\nKlondike Solitaire Draw 3 cards<br />\\r\\nWinning Deals: Increase the challenge<br />\\r\\nVegas Cumulative: Keep your score rolling over<br />\\r\\nAddicting, unique ways to play<br />\\r\\nCustomizable beautiful themes<br />\\r\\nDaily challenges with different levels<br />\\r\\nClean and user-friendly menus<br />\\r\\nBig and easy to see cards<br />\\r\\nAuto-collect cards on completion<br />\\r\\nFeature to UNDO moves<br />\\r\\nFeature to use hints<br />\\r\\nStandard or Vegas scoring')"
      ]
     },
     "execution_count": 8,
     "metadata": {},
     "output_type": "execute_result"
    }
   ],
   "source": [
    "(game_details[\"steam_appid\"], game_details[\"detailed_description\"])"
   ]
  },
  {
   "cell_type": "markdown",
   "metadata": {},
   "source": [
    "### App Reviews"
   ]
  },
  {
   "cell_type": "code",
   "execution_count": 10,
   "metadata": {},
   "outputs": [
    {
     "data": {
      "text/plain": [
       "{'appid': 750380, 'name': \"Dead by Daylight - David's Donkey Jacket\"}"
      ]
     },
     "execution_count": 10,
     "metadata": {},
     "output_type": "execute_result"
    }
   ],
   "source": [
    "example_app = game_list[1111]\n",
    "\n",
    "example_app"
   ]
  },
  {
   "cell_type": "code",
   "execution_count": 3,
   "metadata": {},
   "outputs": [
    {
     "name": "stderr",
     "output_type": "stream",
     "text": [
      "DEBUG:root:Getting reviews for appid 100\n",
      "DEBUG:root:Calling API: https://store.steampowered.com/appreviews/100\n",
      "DEBUG:root:Params: {'json': 1, 'filter': 'all', 'language': 'english', 'review_type': 'all', 'purchase_type': 'all', 'cursor': b'*', 'num_per_page': 1}\n",
      "DEBUG:urllib3.connectionpool:Starting new HTTPS connection (1): store.steampowered.com:443\n",
      "DEBUG:urllib3.connectionpool:https://store.steampowered.com:443 \"GET /appreviews/100?json=1&filter=all&language=english&review_type=all&purchase_type=all&cursor=%2A&num_per_page=1 HTTP/1.1\" 200 473\n",
      "INFO:root:Found 1 reviews for appid 100\n"
     ]
    },
    {
     "data": {
      "text/plain": [
       "{'recommendationid': '149199541',\n",
       " 'author': {'steamid': '76561199384534578',\n",
       "  'num_games_owned': 115,\n",
       "  'num_reviews': 30,\n",
       "  'playtime_forever': 58,\n",
       "  'playtime_last_two_weeks': 0,\n",
       "  'playtime_at_review': 58,\n",
       "  'last_played': 1692620482},\n",
       " 'language': 'english',\n",
       " 'review': \"Answer to the people who say CS Doesn't have a lore\",\n",
       " 'timestamp_created': 1698680047,\n",
       " 'timestamp_updated': 1698680047,\n",
       " 'voted_up': True,\n",
       " 'votes_up': 3,\n",
       " 'votes_funny': 0,\n",
       " 'weighted_vote_score': '0.555555582046508789',\n",
       " 'comment_count': 1,\n",
       " 'steam_purchase': True,\n",
       " 'received_for_free': False,\n",
       " 'written_during_early_access': False,\n",
       " 'hidden_in_steam_china': True,\n",
       " 'steam_china_location': ''}"
      ]
     },
     "execution_count": 3,
     "metadata": {},
     "output_type": "execute_result"
    }
   ],
   "source": [
    "#reviews = get_n_reviews(example_app['appid'], 1)\n",
    "reviews = get_n_reviews('100', 1)\n",
    "\n",
    "reviews[0]"
   ]
  },
  {
   "cell_type": "code",
   "execution_count": null,
   "metadata": {},
   "outputs": [],
   "source": []
  },
  {
   "cell_type": "markdown",
   "metadata": {},
   "source": [
    "# Itch API"
   ]
  },
  {
   "cell_type": "code",
   "execution_count": 1,
   "metadata": {},
   "outputs": [],
   "source": [
    "import requests\n",
    "import ratelimit\n",
    "import logging\n",
    "from bs4 import BeautifulSoup\n",
    "from tenacity import retry, stop_after_attempt, wait_exponential\n"
   ]
  },
  {
   "cell_type": "code",
   "execution_count": 2,
   "metadata": {},
   "outputs": [],
   "source": [
    "response = requests.get(url=\"https://itch.io/games/newest.xml\", params = {\"page\": 1})"
   ]
  },
  {
   "cell_type": "code",
   "execution_count": 5,
   "metadata": {},
   "outputs": [
    {
     "data": {
      "text/plain": [
       "'<?xml version=\"1.0\" encoding=\"UTF-8\" ?><rss version=\"2.0\"><channel><title>Latest games - itch.io</title><link>https://itch.io/games/newest</link><item><guid>https://alltrueast.itch.io/something-in-my-house</guid><title>Something in my house [Free] [Other]</title><plainTitle>Something in my house</plainTitle><imageurl>https://img.itch.zone/aW1nLzE0NTk2ODY5LmpwZw==/315x250%23c/6OUpG6.jpg</imageurl><price>$0.00</price><currency>USD</currency><link>https://alltrueast.itch.io/something-in-my-house</link><description><![CDATA[\\n<img src=\"https://img.itch.zone/aW1nLzE0NTk2ODY5LmpwZw==/315x250%23c/6OUpG6.jpg\" alt=\"Something in my house\"/>]]></description><pubDate>Mon, 08 Jan 2024 16:59:20 GMT</pubDate><createDate>Mon, 08 Jan 2024 16:59:20 GMT</createDate><updateDate>Mon, 08 Jan 2024 17:04:09 GMT</updateDate><platforms><html>yes</html></platforms></item><item><guid>https://nvdev.itch.io/farming-simulator-1800</guid><title>Farming simulator 1800 [Free] [Educational]</title><plainTitle>Farming simulator 1800</plainTitle><imageurl>https://img.itch.zone/aW1nLzE0NTk2NTM5LmpwZWc=/315x250%23c/3IhxnT.jpeg</imageurl><price>$0.00</price><currency>USD</currency><link>https://nvdev.itch.io/farming-simulator-1800</link><description><![CDATA[Sigma moment\\n<img src=\"https://img.itch.zone/aW1nLzE0NTk2NTM5LmpwZWc=/315x250%23c/3IhxnT.jpeg\" alt=\"Farming simulator 1800\"/>]]></description><pubDate>Mon, 08 Jan 2024 16:30:22 GMT</pubDate><createDate>Mon, 08 Jan 2024 16:30:22 GMT</createDate><updateDate>Mon, 08 Jan 2024 17:01:53 GMT</updateDate><platforms><html>yes</html></platforms></item><item><guid>https://vls-sergey.itch.io/falco-space-race</guid><title>Falco Space Race [$5.00] [Action]</title><plainTitle>Falco Space Race</plainTitle><imageurl>https://img.itch.zone/aW1nLzE0NTk2NzU1LmpwZw==/315x250%23c/hB5pzV.jpg</imageurl><price>$5.00</price><currency>USD</currency><link>https://vls-sergey.itch.io/falco-space-race</link><description><![CDATA[\\n<img src=\"https://img.itch.zone/aW1nLzE0NTk2NzU1LmpwZw==/315x250%23c/hB5pzV.jpg\" alt=\"Falco Space Race\"/>]]></description><pubDate>Mon, 08 Jan 2024 16:48:51 GMT</pubDate><createDate>Mon, 08 Jan 2024 16:48:51 GMT</createDate><updateDate>Mon, 08 Jan 2024 16:59:23 GMT</updateDate><platforms></platforms></item><item><guid>https://jableman.itch.io/sidekick</guid><title>Sidekick [Free] [Puzzle]</title><plainTitle>Sidekick</plainTitle><imageurl>https://img.itch.zone/aW1nLzE0MjU0MTk3LnBuZw==/315x250%23c/M1V3Yt.png</imageurl><price>$0.00</price><currency>USD</currency><link>https://jableman.itch.io/sidekick</link><description><![CDATA[Puzzle your way to victory in this 3D puzzler where YOU are the sidekick!\\n<img src=\"https://img.itch.zone/aW1nLzE0MjU0MTk3LnBuZw==/315x250%23c/M1V3Yt.png\" alt=\"Sidekick\"/>]]></description><pubDate>Wed, 06 Dec 2023 19:55:07 GMT</pubDate><createDate>Wed, 06 Dec 2023 19:55:07 GMT</createDate><updateDate>Mon, 08 Jan 2024 16:50:05 GMT</updateDate><platforms></platforms></item><item><guid>https://danbrgamer5678.itch.io/desvie-dos-carros</guid><title>Desvie dos carros [Free] [Other] [Windows]</title><plainTitle>Desvie dos carros</plainTitle><imageurl>https://img.itch.zone/aW1nLzE0NTczNTk5LnBuZw==/315x250%23c/2%2BgRhW.png</imageurl><price>$0.00</price><currency>USD</currency><link>https://danbrgamer5678.itch.io/desvie-dos-carros</link><description><![CDATA[\\n<img src=\"https://img.itch.zone/aW1nLzE0NTczNTk5LnBuZw==/315x250%23c/2%2BgRhW.png\" alt=\"Desvie dos carros\"/>]]></description><pubDate>Fri, 05 Jan 2024 17:18:52 GMT</pubDate><createDate>Fri, 05 Jan 2024 17:18:52 GMT</createDate><updateDate>Mon, 08 Jan 2024 16:45:32 GMT</updateDate><platforms><windows>yes</windows></platforms></item><item><guid>https://poroli.itch.io/get-out-of-this-shit</guid><title>Get out of this sh** [Free] [Action]</title><plainTitle>Get out of this sh**</plainTitle><imageurl>https://img.itch.zone/aW1nLzE0NTk2NTI2LnBuZw==/315x250%23c/%2FQnWO5.png</imageurl><price>$0.00</price><currency>USD</currency><link>https://poroli.itch.io/get-out-of-this-shit</link><description><![CDATA[You&#039;ve crashed on a island infested with zombies and you have to pickup parts to repair your car.\\n<img src=\"https://img.itch.zone/aW1nLzE0NTk2NTI2LnBuZw==/315x250%23c/%2FQnWO5.png\" alt=\"Get out of this sh**\"/>]]></description><pubDate>Mon, 08 Jan 2024 16:23:59 GMT</pubDate><createDate>Mon, 08 Jan 2024 16:23:59 GMT</createDate><updateDate>Mon, 08 Jan 2024 16:44:59 GMT</updateDate><platforms></platforms></item><item><guid>https://developerorange.itch.io/enemy-dodge</guid><title>EnemyDodge [Free] [Android]</title><plainTitle>EnemyDodge</plainTitle><imageurl>https://img.itch.zone/aW1nLzE0NTk2NzM3LnBuZw==/315x250%23c/%2FrbglN.png</imageurl><price>$0.00</price><currency>USD</currency><link>https://developerorange.itch.io/enemy-dodge</link><description><![CDATA[\\n<img src=\"https://img.itch.zone/aW1nLzE0NTk2NzM3LnBuZw==/315x250%23c/%2FrbglN.png\" alt=\"EnemyDodge\"/>]]></description><pubDate>Mon, 08 Jan 2024 16:38:41 GMT</pubDate><createDate>Mon, 08 Jan 2024 16:38:41 GMT</createDate><updateDate>Mon, 08 Jan 2024 16:48:05 GMT</updateDate><platforms><android>yes</android></platforms></item><item><guid>https://pigslyer.itch.io/wagon-driver-two-queendoms</guid><title>Wagon Driver: A Tile of Two Queendoms [Free] [Puzzle]</title><plainTitle>Wagon Driver: A Tile of Two Queendoms</plainTitle><imageurl>https://img.itch.zone/aW1nLzE0NTk2NjM1LnBuZw==/315x250%23c/NavoRg.png</imageurl><price>$0.00</price><currency>USD</currency><link>https://pigslyer.itch.io/wagon-driver-two-queendoms</link><description><![CDATA[Plan your Path to the unification of Two Queendoms in this short puzzle game.\\n<img src=\"https://img.itch.zone/aW1nLzE0NTk2NjM1LnBuZw==/315x250%23c/NavoRg.png\" alt=\"Wagon Driver: A Tile of Two Queendoms\"/>]]></description><pubDate>Mon, 01 Jan 2024 20:01:39 GMT</pubDate><createDate>Mon, 01 Jan 2024 20:01:39 GMT</createDate><updateDate>Mon, 08 Jan 2024 16:35:17 GMT</updateDate><platforms><html>yes</html></platforms></item><item><guid>https://aeinahpets.itch.io/steven-the-teen</guid><title>Steven the teen swan [Free] [Windows]</title><plainTitle>Steven the teen swan</plainTitle><imageurl>https://img.itch.zone/aW1nLzE0NTk2ODQyLnBuZw==/315x250%23c/WTjmR1.png</imageurl><price>$0.00</price><currency>USD</currency><link>https://aeinahpets.itch.io/steven-the-teen</link><description><![CDATA[Jame Gam submission for you are the boss with a swan\\n<img src=\"https://img.itch.zone/aW1nLzE0NTk2ODQyLnBuZw==/315x250%23c/WTjmR1.png\" alt=\"Steven the teen swan\"/>]]></description><pubDate>Mon, 08 Jan 2024 16:01:32 GMT</pubDate><createDate>Mon, 08 Jan 2024 16:01:32 GMT</createDate><updateDate>Mon, 08 Jan 2024 16:55:28 GMT</updateDate><platforms><windows>yes</windows></platforms></item><item><guid>https://xybit.itch.io/the-royal-quack</guid><title>The Royal Quack [Free] [Interactive Fiction] [Windows]</title><plainTitle>The Royal Quack</plainTitle><imageurl>https://img.itch.zone/aW1nLzE0NTkyOTY4LnBuZw==/315x250%23c/ykUmNG.png</imageurl><price>$0.00</price><currency>USD</currency><link>https://xybit.itch.io/the-royal-quack</link><description><![CDATA[\\n<img src=\"https://img.itch.zone/aW1nLzE0NTkyOTY4LnBuZw==/315x250%23c/ykUmNG.png\" alt=\"The Royal Quack\"/>]]></description><pubDate>Mon, 08 Jan 2024 09:40:48 GMT</pubDate><createDate>Mon, 08 Jan 2024 09:40:48 GMT</createDate><updateDate>Mon, 08 Jan 2024 16:29:39 GMT</updateDate><platforms><windows>yes</windows></platforms></item><item><guid>https://green-salad-studios.itch.io/consequences</guid><title>Consequences [Free] [Interactive Fiction] [Windows]</title><plainTitle>Consequences</plainTitle><imageurl>https://img.itch.zone/aW1nLzE0NTk2NTM4LnBuZw==/315x250%23c/pRp5Ls.png</imageurl><price>$0.00</price><currency>USD</currency><link>https://green-salad-studios.itch.io/consequences</link><description><![CDATA[\\n<img src=\"https://img.itch.zone/aW1nLzE0NTk2NTM4LnBuZw==/315x250%23c/pRp5Ls.png\" alt=\"Consequences\"/>]]></description><pubDate>Mon, 08 Jan 2024 16:27:18 GMT</pubDate><createDate>Mon, 08 Jan 2024 16:27:18 GMT</createDate><updateDate>Mon, 08 Jan 2024 16:30:46 GMT</updateDate><platforms><windows>yes</windows></platforms></item><item><guid>https://enn98.itch.io/sonicexe-creepypasta-game</guid><title>Sonic exe creepypasta Game [Free] [Windows]</title><plainTitle>Sonic exe creepypasta Game</plainTitle><imageurl>https://img.itch.zone/aW1nLzE0NTc3MDAwLnBuZw==/315x250%23c/umD07P.png</imageurl><price>$0.00</price><currency>USD</currency><link>https://enn98.itch.io/sonicexe-creepypasta-game</link><description><![CDATA[\\n<img src=\"https://img.itch.zone/aW1nLzE0NTc3MDAwLnBuZw==/315x250%23c/umD07P.png\" alt=\"Sonic exe creepypasta Game\"/>]]></description><pubDate>Sat, 06 Jan 2024 22:15:07 GMT</pubDate><createDate>Sat, 06 Jan 2024 22:15:07 GMT</createDate><updateDate>Mon, 08 Jan 2024 16:27:34 GMT</updateDate><platforms><windows>yes</windows></platforms></item><item><guid>https://enn98.itch.io/sonic-exe-revenge-of-exetior</guid><title>Sonic exe revenge of exetior [Free] [Windows]</title><plainTitle>Sonic exe revenge of exetior</plainTitle><imageurl>https://img.itch.zone/aW1nLzE0NTc1NzE5LmpwZw==/315x250%23c/xD1Q7b.jpg</imageurl><price>$0.00</price><currency>USD</currency><link>https://enn98.itch.io/sonic-exe-revenge-of-exetior</link><description><![CDATA[\\n<img src=\"https://img.itch.zone/aW1nLzE0NTc1NzE5LmpwZw==/315x250%23c/xD1Q7b.jpg\" alt=\"Sonic exe revenge of exetior\"/>]]></description><pubDate>Sat, 06 Jan 2024 20:08:11 GMT</pubDate><createDate>Sat, 06 Jan 2024 20:08:11 GMT</createDate><updateDate>Mon, 08 Jan 2024 16:27:22 GMT</updateDate><platforms><windows>yes</windows></platforms></item><item><guid>https://brokedevy.itch.io/chicken-escape</guid><title>Chicken Escape - DEMO [Free] [Platformer]</title><plainTitle>Chicken Escape - DEMO</plainTitle><imageurl>https://img.itch.zone/aW1nLzE0NTg5ODcxLnBuZw==/315x250%23c/uxchpD.png</imageurl><price>$0.00</price><currency>USD</currency><link>https://brokedevy.itch.io/chicken-escape</link><description><![CDATA[A 2d plateformer game were you the chicken needs to escape from the evil of hands of Doctor Splashfeather\\n<img src=\"https://img.itch.zone/aW1nLzE0NTg5ODcxLnBuZw==/315x250%23c/uxchpD.png\" alt=\"Chicken Escape - DEMO\"/>]]></description><pubDate>Sun, 07 Jan 2024 23:01:49 GMT</pubDate><createDate>Sun, 07 Jan 2024 23:01:49 GMT</createDate><updateDate>Mon, 08 Jan 2024 16:27:09 GMT</updateDate><platforms><html>yes</html></platforms></item><item><guid>https://astrodemonia.itch.io/lunar-psychosis</guid><title>Lunar Psychosis [Free] [Shooter]</title><plainTitle>Lunar Psychosis</plainTitle><imageurl>https://img.itch.zone/aW1nLzE0NTc0NzAxLnBuZw==/315x250%23c/OhPQCB.png</imageurl><price>$0.00</price><currency>USD</currency><link>https://astrodemonia.itch.io/lunar-psychosis</link><description><![CDATA[Experimental game for one hour game jam, made in 3.5 hour, i guess we need four hour game jam lol\\n<img src=\"https://img.itch.zone/aW1nLzE0NTc0NzAxLnBuZw==/315x250%23c/OhPQCB.png\" alt=\"Lunar Psychosis\"/>]]></description><pubDate>Sat, 06 Jan 2024 18:33:07 GMT</pubDate><createDate>Sat, 06 Jan 2024 18:33:07 GMT</createDate><updateDate>Mon, 08 Jan 2024 16:21:08 GMT</updateDate><platforms><html>yes</html></platforms></item><item><guid>https://natisfg.itch.io/galaxy-voyager</guid><title>Galaxy Voyager [Free] [Interactive Fiction]</title><plainTitle>Galaxy Voyager</plainTitle><imageurl>https://img.itch.zone/aW1nLzE0NTk1ODYwLnBuZw==/315x250%23c/GmVc6i.png</imageurl><price>$0.00</price><currency>USD</currency><link>https://natisfg.itch.io/galaxy-voyager</link><description><![CDATA[Take in beautiful views of outside and inside of your spaceship and the gigantic galaxy ahead!\\n<img src=\"https://img.itch.zone/aW1nLzE0NTk1ODYwLnBuZw==/315x250%23c/GmVc6i.png\" alt=\"Galaxy Voyager\"/>]]></description><pubDate>Mon, 08 Jan 2024 16:17:49 GMT</pubDate><createDate>Mon, 08 Jan 2024 16:17:49 GMT</createDate><updateDate>Mon, 08 Jan 2024 16:21:34 GMT</updateDate><platforms></platforms></item><item><guid>https://didal.itch.io/krasnyi</guid><title>Красный дает Жару! [Free] [Windows]</title><plainTitle>Красный дает Жару!</plainTitle><imageurl>https://img.itch.zone/aW1nLzE0NTk2MDQwLnBuZw==/315x250%23c/HAiZWe.png</imageurl><price>$0.00</price><currency>USD</currency><link>https://didal.itch.io/krasnyi</link><description><![CDATA[\\n<img src=\"https://img.itch.zone/aW1nLzE0NTk2MDQwLnBuZw==/315x250%23c/HAiZWe.png\" alt=\"Красный дает Жару!\"/>]]></description><pubDate>Mon, 08 Jan 2024 15:41:20 GMT</pubDate><createDate>Mon, 08 Jan 2024 15:41:20 GMT</createDate><updateDate>Mon, 08 Jan 2024 16:19:46 GMT</updateDate><platforms><windows>yes</windows></platforms></item><item><guid>https://codigokidvv.itch.io/inkcaster</guid><title>InkCaster [Free] [Action]</title><plainTitle>InkCaster</plainTitle><price>$0.00</price><currency>USD</currency><link>https://codigokidvv.itch.io/inkcaster</link><description><![CDATA[sdsdfsdf\\n<img alt=\"InkCaster\"/>]]></description><pubDate>Mon, 08 Jan 2024 16:03:28 GMT</pubDate><createDate>Mon, 08 Jan 2024 16:03:28 GMT</createDate><updateDate>Mon, 08 Jan 2024 16:58:35 GMT</updateDate><platforms><html>yes</html></platforms></item><item><guid>https://pibou.itch.io/slimes-meadow</guid><title>Slimes Meadow [Free] [Other] [Windows] [Linux]</title><plainTitle>Slimes Meadow</plainTitle><imageurl>https://img.itch.zone/aW1nLzE0NTk1MjA1LnBuZw==/315x250%23c/jLCXFT.png</imageurl><price>$0.00</price><currency>USD</currency><link>https://pibou.itch.io/slimes-meadow</link><description><![CDATA[Dodge the slimes for as long as you can to reach the highest score!\\n<img src=\"https://img.itch.zone/aW1nLzE0NTk1MjA1LnBuZw==/315x250%23c/jLCXFT.png\" alt=\"Slimes Meadow\"/>]]></description><pubDate>Mon, 08 Jan 2024 13:57:23 GMT</pubDate><createDate>Mon, 08 Jan 2024 13:57:23 GMT</createDate><updateDate>Mon, 08 Jan 2024 16:08:48 GMT</updateDate><platforms><html>yes</html></platforms></item><item><guid>https://dtanotrew.itch.io/the-soup-witch</guid><title>The Soup Witch [Free] [Platformer] [Windows]</title><plainTitle>The Soup Witch</plainTitle><imageurl>https://img.itch.zone/aW1nLzE0NTk1MTM3LnBuZw==/315x250%23c/rP5wfL.png</imageurl><price>$0.00</price><currency>USD</currency><link>https://dtanotrew.itch.io/the-soup-witch</link><description><![CDATA[Soup Witch\\n<img src=\"https://img.itch.zone/aW1nLzE0NTk1MTM3LnBuZw==/315x250%23c/rP5wfL.png\" alt=\"The Soup Witch\"/>]]></description><pubDate>Mon, 08 Jan 2024 14:01:02 GMT</pubDate><createDate>Mon, 08 Jan 2024 14:01:02 GMT</createDate><updateDate>Mon, 08 Jan 2024 16:05:41 GMT</updateDate><platforms><windows>yes</windows></platforms></item><item><guid>https://marshlandbiomes.itch.io/goldie-and-the-three-bears</guid><title>Goldilocks and The Three Bears(?) [Free] [Interactive Fiction]</title><plainTitle>Goldilocks and The Three Bears(?)</plainTitle><imageurl>https://img.itch.zone/aW1nLzE0MjQxNTY1LnBuZw==/315x250%23c/HWwALS.png</imageurl><price>$0.00</price><currency>USD</currency><link>https://marshlandbiomes.itch.io/goldie-and-the-three-bears</link><description><![CDATA[\\n<img src=\"https://img.itch.zone/aW1nLzE0MjQxNTY1LnBuZw==/315x250%23c/HWwALS.png\" alt=\"Goldilocks and The Three Bears(?)\"/>]]></description><pubDate>Wed, 29 Nov 2023 06:30:57 GMT</pubDate><createDate>Wed, 29 Nov 2023 06:30:57 GMT</createDate><updateDate>Mon, 08 Jan 2024 16:04:08 GMT</updateDate><platforms><html>yes</html></platforms></item><item><guid>https://invalidblock.itch.io/prie</guid><title>PRIE [Free] [Other]</title><plainTitle>PRIE</plainTitle><imageurl>https://img.itch.zone/aW1nLzE0NTk1NDUyLmdpZg==/315x250%23c/zAhUog.gif</imageurl><price>$0.00</price><currency>USD</currency><link>https://invalidblock.itch.io/prie</link><description><![CDATA[Use your shield to defend yourself from arrows (triangles) to achieve the highest score possible.\\n<img src=\"https://img.itch.zone/aW1nLzE0NTk1NDUyLmdpZg==/315x250%23c/zAhUog.gif\" alt=\"PRIE\"/>]]></description><pubDate>Mon, 08 Jan 2024 14:30:43 GMT</pubDate><createDate>Mon, 08 Jan 2024 14:30:43 GMT</createDate><updateDate>Mon, 08 Jan 2024 16:01:02 GMT</updateDate><platforms><html>yes</html></platforms></item><item><guid>https://realdash64.itch.io/the-way-of-the-light</guid><title>The way of the light [Free] [Action]</title><plainTitle>The way of the light</plainTitle><imageurl>https://img.itch.zone/aW1nLzE0NTk1NzI1LnBuZw==/315x250%23c/E91EAr.png</imageurl><price>$0.00</price><currency>USD</currency><link>https://realdash64.itch.io/the-way-of-the-light</link><description><![CDATA[Juego inspirado en Zelda 2 para NES.\\n<img src=\"https://img.itch.zone/aW1nLzE0NTk1NzI1LnBuZw==/315x250%23c/E91EAr.png\" alt=\"The way of the light\"/>]]></description><pubDate>Mon, 08 Jan 2024 14:58:32 GMT</pubDate><createDate>Mon, 08 Jan 2024 14:58:32 GMT</createDate><updateDate>Mon, 08 Jan 2024 15:58:56 GMT</updateDate><platforms><html>yes</html></platforms></item><item><guid>https://phoenix012.itch.io/martian-trails</guid><title>Martian Trails [Free] [Platformer] [Windows]</title><plainTitle>Martian Trails</plainTitle><imageurl>https://img.itch.zone/aW1nLzE0NTk2MjAzLmpwZWc=/315x250%23c/mDasZJ.jpeg</imageurl><price>$0.00</price><currency>USD</currency><link>https://phoenix012.itch.io/martian-trails</link><description><![CDATA[\\n<img src=\"https://img.itch.zone/aW1nLzE0NTk2MjAzLmpwZWc=/315x250%23c/mDasZJ.jpeg\" alt=\"Martian Trails\"/>]]></description><pubDate>Mon, 08 Jan 2024 15:36:19 GMT</pubDate><createDate>Mon, 08 Jan 2024 15:36:19 GMT</createDate><updateDate>Mon, 08 Jan 2024 16:09:21 GMT</updateDate><platforms><html>yes</html></platforms></item><item><guid>https://jakekleiner.itch.io/pain-gain-reboot-demo</guid><title>PAIN GAIN reboot DEMO [Free] [Action]</title><plainTitle>PAIN GAIN reboot DEMO</plainTitle><imageurl>https://img.itch.zone/aW1nLzE0NTk2MjAyLnBuZw==/315x250%23c/JC0qh%2B.png</imageurl><price>$0.00</price><currency>USD</currency><link>https://jakekleiner.itch.io/pain-gain-reboot-demo</link><description><![CDATA[just a bit of demo\\n<img src=\"https://img.itch.zone/aW1nLzE0NTk2MjAyLnBuZw==/315x250%23c/JC0qh%2B.png\" alt=\"PAIN GAIN reboot DEMO\"/>]]></description><pubDate>Mon, 08 Jan 2024 15:56:53 GMT</pubDate><createDate>Mon, 08 Jan 2024 15:56:53 GMT</createDate><updateDate>Mon, 08 Jan 2024 15:59:24 GMT</updateDate><platforms><html>yes</html></platforms></item><item><guid>https://lua99.itch.io/galactic-heroes</guid><title>Galactic Heroes [Free] [Action] [Windows]</title><plainTitle>Galactic Heroes</plainTitle><imageurl>https://img.itch.zone/aW1nLzE0NTk2MTYxLnBuZw==/315x250%23c/iST6it.png</imageurl><price>$0.00</price><currency>USD</currency><link>https://lua99.itch.io/galactic-heroes</link><description><![CDATA[\\n<img src=\"https://img.itch.zone/aW1nLzE0NTk2MTYxLnBuZw==/315x250%23c/iST6it.png\" alt=\"Galactic Heroes\"/>]]></description><pubDate>Mon, 08 Jan 2024 15:53:32 GMT</pubDate><createDate>Mon, 08 Jan 2024 15:53:32 GMT</createDate><updateDate>Mon, 08 Jan 2024 15:58:07 GMT</updateDate><platforms><windows>yes</windows></platforms></item><item><guid>https://cubellia.itch.io/dorothy-elena</guid><title>Dorothy &amp; Elena [Free] [Visual Novel] [Windows] [Linux]</title><plainTitle>Dorothy &amp; Elena</plainTitle><imageurl>https://img.itch.zone/aW1nLzE0NTk2MTc0LnBuZw==/315x250%23c/MKrOCR.png</imageurl><price>$0.00</price><currency>USD</currency><link>https://cubellia.itch.io/dorothy-elena</link><description><![CDATA[A short GL game about a witch doing deliveries to buy a present for her girlfriend!\\n<img src=\"https://img.itch.zone/aW1nLzE0NTk2MTc0LnBuZw==/315x250%23c/MKrOCR.png\" alt=\"Dorothy &amp; Elena\"/>]]></description><pubDate>Mon, 08 Jan 2024 14:05:06 GMT</pubDate><createDate>Mon, 08 Jan 2024 14:05:06 GMT</createDate><updateDate>Mon, 08 Jan 2024 16:28:30 GMT</updateDate><platforms><html>yes</html></platforms></item><item><guid>https://dandok.itch.io/di-que-si</guid><title>Di que si [Free]</title><plainTitle>Di que si</plainTitle><imageurl>https://img.itch.zone/aW1nLzE0NTk2MDA3LmpwZw==/315x250%23c/ARIowq.jpg</imageurl><price>$0.00</price><currency>USD</currency><link>https://dandok.itch.io/di-que-si</link><description><![CDATA[\\n<img src=\"https://img.itch.zone/aW1nLzE0NTk2MDA3LmpwZw==/315x250%23c/ARIowq.jpg\" alt=\"Di que si\"/>]]></description><pubDate>Mon, 08 Jan 2024 15:40:09 GMT</pubDate><createDate>Mon, 08 Jan 2024 15:40:09 GMT</createDate><updateDate>Mon, 08 Jan 2024 15:52:13 GMT</updateDate><platforms></platforms></item><item><guid>https://bit69tream.itch.io/stribun</guid><title>STRIBUN [Free] [Action] [Linux]</title><plainTitle>STRIBUN</plainTitle><imageurl>https://img.itch.zone/aW1nLzE0NTk0ODQ2LnBuZw==/315x250%23c/oMU38s.png</imageurl><price>$0.00</price><currency>USD</currency><link>https://bit69tream.itch.io/stribun</link><description><![CDATA[A top-down boss-rush bullet hell set in space\\n<img src=\"https://img.itch.zone/aW1nLzE0NTk0ODQ2LnBuZw==/315x250%23c/oMU38s.png\" alt=\"STRIBUN\"/>]]></description><pubDate>Mon, 08 Jan 2024 14:05:52 GMT</pubDate><createDate>Mon, 08 Jan 2024 14:05:52 GMT</createDate><updateDate>Mon, 08 Jan 2024 15:51:57 GMT</updateDate><platforms><html>yes</html></platforms></item><item><guid>https://cropsdev.itch.io/the-magical-fox</guid><title>The Magical Fox [Free] [Platformer] [Windows]</title><plainTitle>The Magical Fox</plainTitle><imageurl>https://img.itch.zone/aW1nLzE0NTkwNDcxLnBuZw==/315x250%23c/eXvW4s.png</imageurl><price>$0.00</price><currency>USD</currency><link>https://cropsdev.itch.io/the-magical-fox</link><description><![CDATA[fox plaatformer\\n<img src=\"https://img.itch.zone/aW1nLzE0NTkwNDcxLnBuZw==/315x250%23c/eXvW4s.png\" alt=\"The Magical Fox\"/>]]></description><pubDate>Mon, 08 Jan 2024 03:06:29 GMT</pubDate><createDate>Mon, 08 Jan 2024 03:06:29 GMT</createDate><updateDate>Mon, 08 Jan 2024 15:51:03 GMT</updateDate><platforms><windows>yes</windows></platforms></item><item><guid>https://jordoror.itch.io/quack-a-doodle-boom</guid><title>Quack-a-doodle-Boom [Free] [Action] [Windows] [macOS]</title><plainTitle>Quack-a-doodle-Boom</plainTitle><imageurl>https://img.itch.zone/aW1nLzE0NDkzMjgzLnBuZw==/315x250%23c/jrZvpX.png</imageurl><price>$0.00</price><currency>USD</currency><link>https://jordoror.itch.io/quack-a-doodle-boom</link><description><![CDATA[Single-PC Multiplayer Party Duck Gun Fight in a Fully Destructible Arena\\n<img src=\"https://img.itch.zone/aW1nLzE0NDkzMjgzLnBuZw==/315x250%23c/jrZvpX.png\" alt=\"Quack-a-doodle-Boom\"/>]]></description><pubDate>Fri, 29 Dec 2023 13:04:42 GMT</pubDate><createDate>Fri, 29 Dec 2023 13:04:42 GMT</createDate><updateDate>Mon, 08 Jan 2024 15:49:52 GMT</updateDate><platforms><windows>yes</windows><osx>yes</osx></platforms></item><item><guid>https://tundrajazz.itch.io/christmas-treason</guid><title>Christmas Treason [Free] [Role Playing] [Windows]</title><plainTitle>Christmas Treason</plainTitle><imageurl>https://img.itch.zone/aW1nLzE0NTk0NDkyLnBuZw==/315x250%23c/owLlZ%2F.png</imageurl><price>$0.00</price><currency>USD</currency><link>https://tundrajazz.itch.io/christmas-treason</link><description><![CDATA[Рождество запрещено. Празднующие его — предатели.\\n<img src=\"https://img.itch.zone/aW1nLzE0NTk0NDkyLnBuZw==/315x250%23c/owLlZ%2F.png\" alt=\"Christmas Treason\"/>]]></description><pubDate>Mon, 08 Jan 2024 11:35:04 GMT</pubDate><createDate>Mon, 08 Jan 2024 11:35:04 GMT</createDate><updateDate>Mon, 08 Jan 2024 15:46:57 GMT</updateDate><platforms><windows>yes</windows></platforms></item><item><guid>https://nal.itch.io/rockit</guid><title>Rockit [Free] [Windows]</title><plainTitle>Rockit</plainTitle><imageurl>https://img.itch.zone/aW1nLzE0NTk2MDQxLnBuZw==/315x250%23c/CQ48KR.png</imageurl><price>$0.00</price><currency>USD</currency><link>https://nal.itch.io/rockit</link><description><![CDATA[Seek destruction.\\n<img src=\"https://img.itch.zone/aW1nLzE0NTk2MDQxLnBuZw==/315x250%23c/CQ48KR.png\" alt=\"Rockit\"/>]]></description><pubDate>Mon, 08 Jan 2024 15:42:33 GMT</pubDate><createDate>Mon, 08 Jan 2024 15:42:33 GMT</createDate><updateDate>Mon, 08 Jan 2024 15:45:43 GMT</updateDate><platforms><windows>yes</windows></platforms></item><item><guid>https://nekuuraa.itch.io/frog-plateformer</guid><title>Frog Plateformer [Free] [Platformer]</title><plainTitle>Frog Plateformer</plainTitle><imageurl>https://img.itch.zone/aW1nLzE0NTkzODUxLnBuZw==/315x250%23c/jEBy2d.png</imageurl><price>$0.00</price><currency>USD</currency><link>https://nekuuraa.itch.io/frog-plateformer</link><description><![CDATA[Save Rainy the Frog\\n<img src=\"https://img.itch.zone/aW1nLzE0NTkzODUxLnBuZw==/315x250%23c/jEBy2d.png\" alt=\"Frog Plateformer\"/>]]></description><pubDate>Mon, 08 Jan 2024 11:38:14 GMT</pubDate><createDate>Mon, 08 Jan 2024 11:38:14 GMT</createDate><updateDate>Mon, 08 Jan 2024 15:44:45 GMT</updateDate><platforms></platforms></item><item><guid>https://somewhaat.itch.io/anton-simulator</guid><title>Антон Simulator [Free] [Windows]</title><plainTitle>Антон Simulator</plainTitle><imageurl>https://img.itch.zone/aW1nLzE0NTk1OTYwLnBuZw==/315x250%23c/8R9RKI.png</imageurl><price>$0.00</price><currency>USD</currency><link>https://somewhaat.itch.io/anton-simulator</link><description><![CDATA[a small game I&#039;ve made as a gift for my stepfather called Anton (Антон)\\n<img src=\"https://img.itch.zone/aW1nLzE0NTk1OTYwLnBuZw==/315x250%23c/8R9RKI.png\" alt=\"Антон Simulator\"/>]]></description><pubDate>Sun, 07 Jan 2024 21:08:06 GMT</pubDate><createDate>Sun, 07 Jan 2024 21:08:06 GMT</createDate><updateDate>Mon, 08 Jan 2024 15:35:40 GMT</updateDate><platforms><html>yes</html></platforms></item><item><guid>https://gramorim.itch.io/slime-breeder</guid><title>Slime Breeder [Free] [Strategy] [Windows]</title><plainTitle>Slime Breeder</plainTitle><imageurl>https://img.itch.zone/aW1nLzE0NTk1NTgxLmdpZg==/315x250%23c/utgr0J.gif</imageurl><price>$0.00</price><currency>USD</currency><link>https://gramorim.itch.io/slime-breeder</link><description><![CDATA[breed slimes to compete in an underground cage fight\\n<img src=\"https://img.itch.zone/aW1nLzE0NTk1NTgxLmdpZg==/315x250%23c/utgr0J.gif\" alt=\"Slime Breeder\"/>]]></description><pubDate>Sat, 06 Jan 2024 12:50:30 GMT</pubDate><createDate>Sat, 06 Jan 2024 12:50:30 GMT</createDate><updateDate>Mon, 08 Jan 2024 15:35:06 GMT</updateDate><platforms><html>yes</html></platforms></item></channel></rss>'"
      ]
     },
     "execution_count": 5,
     "metadata": {},
     "output_type": "execute_result"
    }
   ],
   "source": [
    "response.text"
   ]
  },
  {
   "cell_type": "code",
   "execution_count": 3,
   "metadata": {},
   "outputs": [
    {
     "name": "stderr",
     "output_type": "stream",
     "text": [
      "/Users/danielperry/Developer/steam-natural-search/01_gamedataset/.venv_01a/lib/python3.11/site-packages/bs4/builder/__init__.py:545: XMLParsedAsHTMLWarning: It looks like you're parsing an XML document using an HTML parser. If this really is an HTML document (maybe it's XHTML?), you can ignore or filter this warning. If it's XML, you should know that using an XML parser will be more reliable. To parse this document as XML, make sure you have the lxml package installed, and pass the keyword argument `features=\"xml\"` into the BeautifulSoup constructor.\n",
      "  warnings.warn(\n"
     ]
    }
   ],
   "source": [
    "soup = BeautifulSoup(response.text, features='lxml')"
   ]
  },
  {
   "cell_type": "code",
   "execution_count": 4,
   "metadata": {},
   "outputs": [],
   "source": [
    "soup2 = BeautifulSoup(response.text, features=\"html5lib\")"
   ]
  },
  {
   "cell_type": "code",
   "execution_count": 20,
   "metadata": {},
   "outputs": [
    {
     "name": "stderr",
     "output_type": "stream",
     "text": [
      "/Users/danielperry/Developer/steam-natural-search/01_gamedataset/.venv_01a/lib/python3.11/site-packages/bs4/builder/__init__.py:545: XMLParsedAsHTMLWarning: It looks like you're parsing an XML document using an HTML parser. If this really is an HTML document (maybe it's XHTML?), you can ignore or filter this warning. If it's XML, you should know that using an XML parser will be more reliable. To parse this document as XML, make sure you have the lxml package installed, and pass the keyword argument `features=\"xml\"` into the BeautifulSoup constructor.\n",
      "  warnings.warn(\n"
     ]
    }
   ],
   "source": [
    "soup3 = BeautifulSoup(response.text, features=\"html.parser\")"
   ]
  },
  {
   "cell_type": "code",
   "execution_count": 5,
   "metadata": {},
   "outputs": [],
   "source": [
    "# Get items from the page\n",
    "items = soup.find_all('item')"
   ]
  },
  {
   "cell_type": "code",
   "execution_count": 6,
   "metadata": {},
   "outputs": [
    {
     "data": {
      "text/plain": [
       "[<item><guid>https://protivit.itch.io/tatko</guid><title>Tatko [Free] [Visual Novel] [Windows] [Linux] [Android]</title><plaintitle>Tatko</plaintitle><imageurl>https://img.itch.zone/aW1nLzE0NjI5MDk2LmpwZw==/315x250%23c/K2QIwj.jpg</imageurl><price>$0.00</price><currency>USD</currency><link/>https://protivit.itch.io/tatko<description>]]&gt;</description><pubdate>Thu, 11 Jan 2024 18:14:53 GMT</pubdate><createdate>Thu, 11 Jan 2024 18:14:53 GMT</createdate><updatedate>Thu, 11 Jan 2024 18:24:59 GMT</updatedate><platforms><windows>yes</windows><linux>yes</linux><android>yes</android></platforms></item>,\n",
       " <item><guid>https://o0devbones0o.itch.io/fusion</guid><title>FUSION [Free] [Action] [Windows] [macOS] [Linux]</title><plaintitle>FUSION</plaintitle><imageurl>https://img.itch.zone/aW1nLzE0NjI4ODQ0LnBuZw==/315x250%23c/M7rTrp.png</imageurl><price>$0.00</price><currency>USD</currency><link/>https://o0devbones0o.itch.io/fusion<description>]]&gt;</description><pubdate>Thu, 11 Jan 2024 17:56:41 GMT</pubdate><createdate>Thu, 11 Jan 2024 17:56:41 GMT</createdate><updatedate>Thu, 11 Jan 2024 18:24:02 GMT</updatedate><platforms>yes</platforms></item>,\n",
       " <item><guid>https://calebanator2000.itch.io/blocky-game</guid><title>Blocky Game! [Free] [Strategy] [Windows]</title><plaintitle>Blocky Game!</plaintitle><imageurl>https://img.itch.zone/aW1nLzE0NjI3OTU3LnBuZw==/315x250%23c/bWXx2Z.png</imageurl><price>$0.00</price><currency>USD</currency><link/>https://calebanator2000.itch.io/blocky-game<description>]]&gt;</description><pubdate>Thu, 11 Jan 2024 16:14:50 GMT</pubdate><createdate>Thu, 11 Jan 2024 16:14:50 GMT</createdate><updatedate>Thu, 11 Jan 2024 18:18:36 GMT</updatedate><platforms><windows>yes</windows></platforms></item>,\n",
       " <item><guid>https://stephencz.itch.io/pong</guid><title>Pong [Free] [Action]</title><plaintitle>Pong</plaintitle><imageurl>https://img.itch.zone/aW1nLzE0NjI4ODk0LnBuZw==/315x250%23c/BZDC4o.png</imageurl><price>$0.00</price><currency>USD</currency><link/>https://stephencz.itch.io/pong<description>]]&gt;</description><pubdate>Thu, 11 Jan 2024 17:34:15 GMT</pubdate><createdate>Thu, 11 Jan 2024 17:34:15 GMT</createdate><updatedate>Thu, 11 Jan 2024 18:07:15 GMT</updatedate><platforms>yes</platforms></item>,\n",
       " <item><guid>https://qilibth.itch.io/empty-bullets</guid><title>Empty Bullets [Free] [Shooter] [Windows]</title><plaintitle>Empty Bullets</plaintitle><imageurl>https://img.itch.zone/aW1nLzE0NjI4Njc2LnBuZw==/315x250%23c/sYyMGK.png</imageurl><price>$0.00</price><currency>USD</currency><link/>https://qilibth.itch.io/empty-bullets<description>]]&gt;</description><pubdate>Thu, 11 Jan 2024 16:30:14 GMT</pubdate><createdate>Thu, 11 Jan 2024 16:30:14 GMT</createdate><updatedate>Thu, 11 Jan 2024 17:48:22 GMT</updatedate><platforms><windows>yes</windows></platforms></item>,\n",
       " <item><guid>https://davidallsgames1.itch.io/descida</guid><title>A descida [Free] [Adventure] [Windows]</title><plaintitle>A descida</plaintitle><imageurl>https://img.itch.zone/aW1nLzE0NjI4NTA1LnBuZw==/315x250%23c/ut7gx6.png</imageurl><price>$0.00</price><currency>USD</currency><link/>https://davidallsgames1.itch.io/descida<description>]]&gt;</description><pubdate>Thu, 11 Jan 2024 17:21:29 GMT</pubdate><createdate>Thu, 11 Jan 2024 17:21:29 GMT</createdate><updatedate>Thu, 11 Jan 2024 17:46:07 GMT</updatedate><platforms><windows>yes</windows></platforms></item>,\n",
       " <item><guid>https://sh1wi.itch.io/lights-out</guid><title>Lights Out [Free]</title><plaintitle>Lights Out</plaintitle><imageurl>https://img.itch.zone/aW1nLzE0MTE5NTQ4LnBuZw==/315x250%23c/DdPTOD.png</imageurl><price>$0.00</price><currency>USD</currency><link/>https://sh1wi.itch.io/lights-out<description>]]&gt;</description><pubdate>Fri, 24 Nov 2023 15:16:16 GMT</pubdate><createdate>Fri, 24 Nov 2023 15:16:16 GMT</createdate><updatedate>Thu, 11 Jan 2024 17:41:30 GMT</updatedate><platforms></platforms></item>,\n",
       " <item><guid>https://futuregames.itch.io/lights-out</guid><title>Lights Out [Free]</title><plaintitle>Lights Out</plaintitle><imageurl>https://img.itch.zone/aW1nLzE0MTYyODc5LnBuZw==/315x250%23c/KpuGxq.png</imageurl><price>$0.00</price><currency>USD</currency><link/>https://futuregames.itch.io/lights-out<description>]]&gt;</description><pubdate>Tue, 28 Nov 2023 08:55:54 GMT</pubdate><createdate>Tue, 28 Nov 2023 08:55:54 GMT</createdate><updatedate>Thu, 11 Jan 2024 17:41:00 GMT</updatedate><platforms></platforms></item>,\n",
       " <item><guid>https://niko313.itch.io/infinite-drive</guid><title>Infinite Drive [Free] [Action] [Windows] [macOS] [Linux]</title><plaintitle>Infinite Drive</plaintitle><imageurl>https://img.itch.zone/aW1nLzE0NjI4NTA2LnBuZw==/315x250%23c/A3oBEF.png</imageurl><price>$0.00</price><currency>USD</currency><link/>https://niko313.itch.io/infinite-drive<description>]]&gt;</description><pubdate>Thu, 11 Jan 2024 11:53:33 GMT</pubdate><createdate>Thu, 11 Jan 2024 11:53:33 GMT</createdate><updatedate>Thu, 11 Jan 2024 17:37:07 GMT</updatedate><platforms><windows>yes</windows><osx>yes</osx><linux>yes</linux></platforms></item>,\n",
       " <item><guid>https://igorcomicstv.itch.io/detroit-pigeon</guid><title>Detroit Pigeon [Free] [Action] [Windows]</title><plaintitle>Detroit Pigeon</plaintitle><imageurl>https://img.itch.zone/aW1nLzE0NjI4NTM1LnBuZw==/315x250%23c/g5arZH.png</imageurl><price>$0.00</price><currency>USD</currency><link/>https://igorcomicstv.itch.io/detroit-pigeon<description>]]&gt;</description><pubdate>Thu, 11 Jan 2024 17:18:51 GMT</pubdate><createdate>Thu, 11 Jan 2024 17:18:51 GMT</createdate><updatedate>Thu, 11 Jan 2024 17:31:24 GMT</updatedate><platforms><windows>yes</windows></platforms></item>,\n",
       " <item><guid>https://cheaplaptopgames.itch.io/non-solar</guid><title>non-solar [Free] [Action] [Windows]</title><plaintitle>non-solar</plaintitle><imageurl>https://img.itch.zone/aW1nLzE0NjI0OTY3LmpwZw==/315x250%23c/5we0d2.jpg</imageurl><price>$0.00</price><currency>USD</currency><link/>https://cheaplaptopgames.itch.io/non-solar<description>]]&gt;</description><pubdate>Wed, 10 Jan 2024 15:56:44 GMT</pubdate><createdate>Wed, 10 Jan 2024 15:56:44 GMT</createdate><updatedate>Thu, 11 Jan 2024 17:30:42 GMT</updatedate><platforms><windows>yes</windows></platforms></item>,\n",
       " <item><guid>https://pgad.itch.io/knife-throw</guid><title>Knife it out! [Free] [Shooter]</title><plaintitle>Knife it out!</plaintitle><imageurl>https://img.itch.zone/aW1nLzE0NjI4NDg4LnBuZw==/315x250%23c/Se4s5X.png</imageurl><price>$0.00</price><currency>USD</currency><link/>https://pgad.itch.io/knife-throw<description>]]&gt;</description><pubdate>Thu, 11 Jan 2024 17:19:30 GMT</pubdate><createdate>Thu, 11 Jan 2024 17:19:30 GMT</createdate><updatedate>Thu, 11 Jan 2024 17:28:11 GMT</updatedate><platforms>yes</platforms></item>,\n",
       " <item><guid>https://na-kolenke-gaming.itch.io/shoola-hell</guid><title>Shoola Hell [Free] [Windows]</title><plaintitle>Shoola Hell</plaintitle><imageurl>https://img.itch.zone/aW1nLzE0NjI4NDM2LnBuZw==/315x250%23c/NrFXvH.png</imageurl><price>$0.00</price><currency>USD</currency><link/>https://na-kolenke-gaming.itch.io/shoola-hell<description>]]&gt;</description><pubdate>Thu, 11 Jan 2024 17:06:32 GMT</pubdate><createdate>Thu, 11 Jan 2024 17:06:32 GMT</createdate><updatedate>Thu, 11 Jan 2024 17:23:51 GMT</updatedate><platforms><windows>yes</windows></platforms></item>,\n",
       " <item><guid>https://caesartp.itch.io/the-walls-speak-to-me</guid><title>The Walls Speak To Me (Lite Version) [Free] [Survival] [Windows]</title><plaintitle>The Walls Speak To Me (Lite Version)</plaintitle><imageurl>https://img.itch.zone/aW1nLzE0NjI4NTA3LnBuZw==/315x250%23c/On%2FbeK.png</imageurl><price>$0.00</price><currency>USD</currency><link/>https://caesartp.itch.io/the-walls-speak-to-me<description>]]&gt;</description><pubdate>Thu, 11 Jan 2024 14:52:10 GMT</pubdate><createdate>Thu, 11 Jan 2024 14:52:10 GMT</createdate><updatedate>Thu, 11 Jan 2024 17:23:14 GMT</updatedate><platforms><windows>yes</windows></platforms></item>,\n",
       " <item><guid>https://danbrgamer5678.itch.io/desvie-dos-carros</guid><title>Desvie dos carros [Free] [Other] [Windows]</title><plaintitle>Desvie dos carros</plaintitle><imageurl>https://img.itch.zone/aW1nLzE0NTczNTk5LnBuZw==/315x250%23c/2%2BgRhW.png</imageurl><price>$0.00</price><currency>USD</currency><link/>https://danbrgamer5678.itch.io/desvie-dos-carros<description>]]&gt;</description><pubdate>Fri, 05 Jan 2024 17:18:52 GMT</pubdate><createdate>Fri, 05 Jan 2024 17:18:52 GMT</createdate><updatedate>Thu, 11 Jan 2024 17:21:31 GMT</updatedate><platforms><windows>yes</windows></platforms></item>,\n",
       " <item><guid>https://tilkidev.itch.io/throwbird</guid><title>ThrowBird [Free]</title><plaintitle>ThrowBird</plaintitle><imageurl>https://img.itch.zone/aW1nLzE0NjA3Mzc5LnBuZw==/315x250%23c/8buheS.png</imageurl><price>$0.00</price><currency>USD</currency><link/>https://tilkidev.itch.io/throwbird<description>]]&gt;</description><pubdate>Tue, 09 Jan 2024 16:43:24 GMT</pubdate><createdate>Tue, 09 Jan 2024 16:43:24 GMT</createdate><updatedate>Thu, 11 Jan 2024 17:15:18 GMT</updatedate><platforms>yes</platforms></item>,\n",
       " <item><guid>https://oxxeys.itch.io/dungeonstory</guid><title>A Dungeon Story [Free]</title><plaintitle>A Dungeon Story</plaintitle><imageurl>https://img.itch.zone/aW1nLzE0NjI4NDg3LnBuZw==/315x250%23c/sFYjha.png</imageurl><price>$0.00</price><currency>USD</currency><link/>https://oxxeys.itch.io/dungeonstory<description>]]&gt;</description><pubdate>Thu, 11 Jan 2024 17:07:40 GMT</pubdate><createdate>Thu, 11 Jan 2024 17:07:40 GMT</createdate><updatedate>Thu, 11 Jan 2024 17:17:16 GMT</updatedate><platforms>yes</platforms></item>,\n",
       " <item><guid>https://didevgames.itch.io/backrooms</guid><title>BACKROOMS [Free] [Survival] [Android]</title><plaintitle>BACKROOMS</plaintitle><imageurl>https://img.itch.zone/aW1nLzE0NjI4NDIwLmpwZw==/315x250%23c/IdSWEH.jpg</imageurl><price>$0.00</price><currency>USD</currency><link/>https://didevgames.itch.io/backrooms<description>]]&gt;</description><pubdate>Thu, 11 Jan 2024 14:56:34 GMT</pubdate><createdate>Thu, 11 Jan 2024 14:56:34 GMT</createdate><updatedate>Thu, 11 Jan 2024 17:32:04 GMT</updatedate><platforms><android>yes</android></platforms></item>,\n",
       " <item><guid>https://markedguy.itch.io/wires</guid><title>WIRES [Free] [Puzzle] [Windows]</title><plaintitle>WIRES</plaintitle><imageurl>https://img.itch.zone/aW1nLzE0NjI4NDA3LnBuZw==/315x250%23c/i0t24T.png</imageurl><price>$0.00</price><currency>USD</currency><link/>https://markedguy.itch.io/wires<description>]]&gt;</description><pubdate>Thu, 11 Jan 2024 17:07:44 GMT</pubdate><createdate>Thu, 11 Jan 2024 17:07:44 GMT</createdate><updatedate>Thu, 11 Jan 2024 17:09:51 GMT</updatedate><platforms><windows>yes</windows></platforms></item>,\n",
       " <item><guid>https://reevehere.itch.io/this-game-has-no-title-lol</guid><title>A horror game I made in 3(ish) days. [Free] [Other] [Windows]</title><plaintitle>A horror game I made in 3(ish) days.</plaintitle><imageurl>https://img.itch.zone/aW1nLzE0NjI4MzIyLnBuZw==/315x250%23c/RLyOtR.png</imageurl><price>$0.00</price><currency>USD</currency><link/>https://reevehere.itch.io/this-game-has-no-title-lol<description>]]&gt;</description><pubdate>Thu, 11 Jan 2024 16:51:29 GMT</pubdate><createdate>Thu, 11 Jan 2024 16:51:29 GMT</createdate><updatedate>Thu, 11 Jan 2024 16:57:45 GMT</updatedate><platforms><windows>yes</windows></platforms></item>,\n",
       " <item><guid>https://alexsilva23.itch.io/stack-burger</guid><title>Stack Burger: The Food Tower Challenge [Free] [Strategy] [Android]</title><plaintitle>Stack Burger: The Food Tower Challenge</plaintitle><imageurl>https://img.itch.zone/aW1nLzE0NjE3ODM0LnBuZw==/315x250%23c/liaNHd.png</imageurl><price>$0.00</price><currency>USD</currency><link/>https://alexsilva23.itch.io/stack-burger<description>]]&gt;</description><pubdate>Wed, 10 Jan 2024 16:47:33 GMT</pubdate><createdate>Wed, 10 Jan 2024 16:47:33 GMT</createdate><updatedate>Thu, 11 Jan 2024 16:55:38 GMT</updatedate><platforms><android>yes</android></platforms></item>,\n",
       " <item><guid>https://claudiaiza.itch.io/nightmare-escape</guid><title>Nightmare Escape [Free] [Platformer]</title><plaintitle>Nightmare Escape</plaintitle><imageurl>https://img.itch.zone/aW1nLzE0NjI4MTMyLnBuZw==/315x250%23c/McuVuG.png</imageurl><price>$0.00</price><currency>USD</currency><link/>https://claudiaiza.itch.io/nightmare-escape<description>]]&gt;</description><pubdate>Thu, 11 Jan 2024 15:26:43 GMT</pubdate><createdate>Thu, 11 Jan 2024 15:26:43 GMT</createdate><updatedate>Thu, 11 Jan 2024 16:53:30 GMT</updatedate><platforms></platforms></item>,\n",
       " <item><guid>https://slim-val.itch.io/lil-gnome</guid><title>Lil Gnome [Free] [Adventure]</title><plaintitle>Lil Gnome</plaintitle><imageurl>https://img.itch.zone/aW1nLzE0NjA5MjA2LnBuZw==/315x250%23c/UrvHJu.png</imageurl><price>$0.00</price><currency>USD</currency><link/>https://slim-val.itch.io/lil-gnome<description>]]&gt;</description><pubdate>Tue, 09 Jan 2024 19:59:58 GMT</pubdate><createdate>Tue, 09 Jan 2024 19:59:58 GMT</createdate><updatedate>Thu, 11 Jan 2024 16:49:53 GMT</updatedate><platforms></platforms></item>,\n",
       " <item><guid>https://evankurtzart.itch.io/cnc-machine-prototype</guid><title>CNC Machine Prototype [Free] [Simulation]</title><plaintitle>CNC Machine Prototype</plaintitle><imageurl>https://img.itch.zone/aW1nLzE0NjI4MjAwLnBuZw==/315x250%23c/%2FIect2.png</imageurl><price>$0.00</price><currency>USD</currency><link/>https://evankurtzart.itch.io/cnc-machine-prototype<description>]]&gt;</description><pubdate>Thu, 11 Jan 2024 16:10:18 GMT</pubdate><createdate>Thu, 11 Jan 2024 16:10:18 GMT</createdate><updatedate>Thu, 11 Jan 2024 17:01:12 GMT</updatedate><platforms>yes</platforms></item>,\n",
       " <item><guid>https://illarn.itch.io/paper-icarus</guid><title>Paper Icarus [Free] [Platformer] [Android]</title><plaintitle>Paper Icarus</plaintitle><imageurl>https://img.itch.zone/aW1nLzE0NjI3ODAwLnBuZw==/315x250%23c/idhHY8.png</imageurl><price>$0.00</price><currency>USD</currency><link/>https://illarn.itch.io/paper-icarus<description>]]&gt;</description><pubdate>Thu, 11 Jan 2024 15:55:11 GMT</pubdate><createdate>Thu, 11 Jan 2024 15:55:11 GMT</createdate><updatedate>Thu, 11 Jan 2024 16:46:41 GMT</updatedate><platforms>yes</platforms></item>,\n",
       " <item><guid>https://grenkadev.itch.io/his-name-is-krum</guid><title>His name is Krum [Free] [Survival]</title><plaintitle>His name is Krum</plaintitle><imageurl>https://img.itch.zone/aW1nLzE0NjI4MDAyLnBuZw==/315x250%23c/UvMUIG.png</imageurl><price>$0.00</price><currency>USD</currency><link/>https://grenkadev.itch.io/his-name-is-krum<description>]]&gt;</description><pubdate>Thu, 11 Jan 2024 16:03:06 GMT</pubdate><createdate>Thu, 11 Jan 2024 16:03:06 GMT</createdate><updatedate>Thu, 11 Jan 2024 16:43:12 GMT</updatedate><platforms>yes</platforms></item>,\n",
       " <item><guid>https://the-lagged-guy.itch.io/radio</guid><title>Radio [Free] [Other]</title><plaintitle>Radio</plaintitle><imageurl>https://img.itch.zone/aW1nLzE0NjI3Njc1LnBuZw==/315x250%23c/QCU8ro.png</imageurl><price>$0.00</price><currency>USD</currency><link/>https://the-lagged-guy.itch.io/radio<description>]]&gt;</description><pubdate>Thu, 11 Jan 2024 15:41:21 GMT</pubdate><createdate>Thu, 11 Jan 2024 15:41:21 GMT</createdate><updatedate>Thu, 11 Jan 2024 16:38:33 GMT</updatedate><platforms>yes</platforms></item>,\n",
       " <item><guid>https://anti-loli.itch.io/moonlight-market</guid><title>Moonlight Market [Free] [Interactive Fiction] [Windows]</title><plaintitle>Moonlight Market</plaintitle><imageurl>https://img.itch.zone/aW1nLzE0NjI3OTYyLnBuZw==/315x250%23c/MIJ6ul.png</imageurl><price>$0.00</price><currency>USD</currency><link/>https://anti-loli.itch.io/moonlight-market<description>]]&gt;</description><pubdate>Thu, 11 Jan 2024 16:35:37 GMT</pubdate><createdate>Thu, 11 Jan 2024 16:35:37 GMT</createdate><updatedate>Thu, 11 Jan 2024 16:37:17 GMT</updatedate><platforms><windows>yes</windows></platforms></item>,\n",
       " <item><guid>https://cainetinyarms.itch.io/my-little-balloon-stand</guid><title>My Little Balloon Stand [Free] [Other]</title><plaintitle>My Little Balloon Stand</plaintitle><imageurl>https://img.itch.zone/aW1nLzE0NjI3NjIzLnBuZw==/315x250%23c/BQz%2FVG.png</imageurl><price>$0.00</price><currency>USD</currency><link/>https://cainetinyarms.itch.io/my-little-balloon-stand<description>]]&gt;</description><pubdate>Thu, 11 Jan 2024 16:13:46 GMT</pubdate><createdate>Thu, 11 Jan 2024 16:13:46 GMT</createdate><updatedate>Thu, 11 Jan 2024 16:42:17 GMT</updatedate><platforms></platforms></item>,\n",
       " <item><guid>https://wcz1016.itch.io/nmixxs-adventure</guid><title>NMIXX's Adventure [Free] [Platformer]</title><plaintitle>NMIXX's Adventure</plaintitle><imageurl>https://img.itch.zone/aW1nLzE0NTI5Nzk4LnBuZw==/315x250%23c/8ohHE6.png</imageurl><price>$0.00</price><currency>USD</currency><link/>https://wcz1016.itch.io/nmixxs-adventure<description>]]&gt;</description><pubdate>Tue, 02 Jan 2024 07:47:51 GMT</pubdate><createdate>Tue, 02 Jan 2024 07:47:51 GMT</createdate><updatedate>Thu, 11 Jan 2024 16:27:43 GMT</updatedate><platforms>yes</platforms></item>,\n",
       " <item><guid>https://retrovalou.itch.io/pioupiouproject</guid><title>⚔︎ SongBird Story (•ө• ) -- ( Gameboy ) ( Zelda 2 Like ) [Free] [Adventure] [Windows] [Android]</title><plaintitle>⚔︎ SongBird Story (•ө• ) -- ( Gameboy ) ( Zelda 2 Like )</plaintitle><imageurl>https://img.itch.zone/aW1nLzE0NTYxMDg2LmdpZg==/315x250%23c/oiDf8y.gif</imageurl><price>$0.00</price><currency>USD</currency><link/>https://retrovalou.itch.io/pioupiouproject<description>]]&gt;</description><pubdate>Thu, 04 Jan 2024 09:46:02 GMT</pubdate><createdate>Thu, 04 Jan 2024 09:46:02 GMT</createdate><updatedate>Thu, 11 Jan 2024 16:27:18 GMT</updatedate><platforms>yes</platforms></item>,\n",
       " <item><guid>https://o139.itch.io/asteroids</guid><title>Asteroids [Free]</title><plaintitle>Asteroids</plaintitle><imageurl>https://img.itch.zone/aW1nLzE0NjI4Mjg4LnBuZw==/315x250%23c/LpiXz%2F.png</imageurl><price>$0.00</price><currency>USD</currency><link/>https://o139.itch.io/asteroids<description>]]&gt;</description><pubdate>Thu, 11 Jan 2024 16:23:22 GMT</pubdate><createdate>Thu, 11 Jan 2024 16:23:22 GMT</createdate><updatedate>Thu, 11 Jan 2024 18:10:18 GMT</updatedate><platforms></platforms></item>,\n",
       " <item><guid>https://shyna.itch.io/freddys-eclipse-the-secrets-of-the-past-fnaf-game</guid><title>Freddy's Eclipse: The Secrets of the Past (FNAF Game) [Free] [Survival] [Windows] [Android]</title><plaintitle>Freddy's Eclipse: The Secrets of the Past (FNAF Game)</plaintitle><imageurl>https://img.itch.zone/aW1nLzE0NjI3MTQwLnBuZw==/315x250%23c/%2FvUIjz.png</imageurl><price>$0.00</price><currency>USD</currency><link/>https://shyna.itch.io/freddys-eclipse-the-secrets-of-the-past-fnaf-game<description>]]&gt;</description><pubdate>Thu, 11 Jan 2024 14:32:44 GMT</pubdate><createdate>Thu, 11 Jan 2024 14:32:44 GMT</createdate><updatedate>Thu, 11 Jan 2024 16:22:29 GMT</updatedate><platforms><windows>yes</windows><android>yes</android></platforms></item>,\n",
       " <item><guid>https://bro-youman.itch.io/the-curse-of-gravity</guid><title>The curse of gravity [Free] [Platformer] [Android]</title><plaintitle>The curse of gravity</plaintitle><imageurl>https://img.itch.zone/aW1nLzE0NjI3ODczLnBuZw==/315x250%23c/RvL29r.png</imageurl><price>$0.00</price><currency>USD</currency><link/>https://bro-youman.itch.io/the-curse-of-gravity<description>]]&gt;</description><pubdate>Thu, 11 Jan 2024 16:05:50 GMT</pubdate><createdate>Thu, 11 Jan 2024 16:05:50 GMT</createdate><updatedate>Thu, 11 Jan 2024 16:23:51 GMT</updatedate><platforms><android>yes</android></platforms></item>,\n",
       " <item><guid>https://sophiacorb.itch.io/pennypixel</guid><title>PennyPixel [Free] [Platformer]</title><plaintitle>PennyPixel</plaintitle><imageurl>https://img.itch.zone/aW1nLzE0NjI3OTE3LnBuZw==/315x250%23c/mKZSQH.png</imageurl><price>$0.00</price><currency>USD</currency><link/>https://sophiacorb.itch.io/pennypixel<description>]]&gt;</description><pubdate>Thu, 11 Jan 2024 15:58:40 GMT</pubdate><createdate>Thu, 11 Jan 2024 15:58:40 GMT</createdate><updatedate>Thu, 11 Jan 2024 16:14:23 GMT</updatedate><platforms>yes</platforms></item>,\n",
       " <item><guid>https://anotherkyledev.itch.io/the-world-depends-on-me</guid><title>The World Depends on Me [Free] [Strategy]</title><plaintitle>The World Depends on Me</plaintitle><imageurl>https://img.itch.zone/aW1nLzE0NjI3NjE5LnBuZw==/315x250%23c/Sf9Ou4.png</imageurl><price>$0.00</price><currency>USD</currency><link/>https://anotherkyledev.itch.io/the-world-depends-on-me<description>]]&gt;</description><pubdate>Thu, 11 Jan 2024 15:26:52 GMT</pubdate><createdate>Thu, 11 Jan 2024 15:26:52 GMT</createdate><updatedate>Thu, 11 Jan 2024 16:04:04 GMT</updatedate><platforms></platforms></item>]"
      ]
     },
     "execution_count": 6,
     "metadata": {},
     "output_type": "execute_result"
    }
   ],
   "source": [
    "items"
   ]
  },
  {
   "cell_type": "code",
   "execution_count": 8,
   "metadata": {},
   "outputs": [],
   "source": [
    "items2 = soup2.find_all('item')"
   ]
  },
  {
   "cell_type": "code",
   "execution_count": 21,
   "metadata": {},
   "outputs": [],
   "source": [
    "items3 = soup3.find_all('item')"
   ]
  },
  {
   "cell_type": "code",
   "execution_count": 22,
   "metadata": {},
   "outputs": [],
   "source": [
    "item = items3[0]"
   ]
  },
  {
   "cell_type": "code",
   "execution_count": 23,
   "metadata": {},
   "outputs": [
    {
     "data": {
      "text/plain": [
       "<item><guid>https://protivit.itch.io/tatko</guid><title>Tatko [Free] [Visual Novel] [Windows] [Linux] [Android]</title><plaintitle>Tatko</plaintitle><imageurl>https://img.itch.zone/aW1nLzE0NjI5MDk2LmpwZw==/315x250%23c/K2QIwj.jpg</imageurl><price>$0.00</price><currency>USD</currency><link/>https://protivit.itch.io/tatko<description><![CDATA[\n",
       "<img src=\"https://img.itch.zone/aW1nLzE0NjI5MDk2LmpwZw==/315x250%23c/K2QIwj.jpg\" alt=\"Tatko\"/>]]></description><pubdate>Thu, 11 Jan 2024 18:14:53 GMT</pubdate><createdate>Thu, 11 Jan 2024 18:14:53 GMT</createdate><updatedate>Thu, 11 Jan 2024 18:24:59 GMT</updatedate><platforms><windows>yes</windows><linux>yes</linux><android>yes</android></platforms></item>"
      ]
     },
     "execution_count": 23,
     "metadata": {},
     "output_type": "execute_result"
    }
   ],
   "source": [
    "item"
   ]
  },
  {
   "cell_type": "code",
   "execution_count": 26,
   "metadata": {},
   "outputs": [
    {
     "data": {
      "text/plain": [
       "[<guid>https://protivit.itch.io/tatko</guid>,\n",
       " <title>Tatko [Free] [Visual Novel] [Windows] [Linux] [Android]</title>,\n",
       " <plaintitle>Tatko</plaintitle>,\n",
       " <imageurl>https://img.itch.zone/aW1nLzE0NjI5MDk2LmpwZw==/315x250%23c/K2QIwj.jpg</imageurl>,\n",
       " <price>$0.00</price>,\n",
       " <currency>USD</currency>,\n",
       " <link/>,\n",
       " 'https://protivit.itch.io/tatko',\n",
       " <description><![CDATA[\n",
       " <img src=\"https://img.itch.zone/aW1nLzE0NjI5MDk2LmpwZw==/315x250%23c/K2QIwj.jpg\" alt=\"Tatko\"/>]]></description>,\n",
       " <pubdate>Thu, 11 Jan 2024 18:14:53 GMT</pubdate>,\n",
       " <createdate>Thu, 11 Jan 2024 18:14:53 GMT</createdate>,\n",
       " <updatedate>Thu, 11 Jan 2024 18:24:59 GMT</updatedate>,\n",
       " <platforms><windows>yes</windows><linux>yes</linux><android>yes</android></platforms>]"
      ]
     },
     "execution_count": 26,
     "metadata": {},
     "output_type": "execute_result"
    }
   ],
   "source": [
    "item."
   ]
  },
  {
   "cell_type": "code",
   "execution_count": 24,
   "metadata": {},
   "outputs": [
    {
     "data": {
      "text/plain": [
       "'<item>\\n <guid>\\n  https://protivit.itch.io/tatko\\n </guid>\\n <title>\\n  Tatko [Free] [Visual Novel] [Windows] [Linux] [Android]\\n </title>\\n <plaintitle>\\n  Tatko\\n </plaintitle>\\n <imageurl>\\n  https://img.itch.zone/aW1nLzE0NjI5MDk2LmpwZw==/315x250%23c/K2QIwj.jpg\\n </imageurl>\\n <price>\\n  $0.00\\n </price>\\n <currency>\\n  USD\\n </currency>\\n <link/>\\n https://protivit.itch.io/tatko\\n <description>\\n  <![CDATA[\\n<img src=\"https://img.itch.zone/aW1nLzE0NjI5MDk2LmpwZw==/315x250%23c/K2QIwj.jpg\" alt=\"Tatko\"/>]]>\\n </description>\\n <pubdate>\\n  Thu, 11 Jan 2024 18:14:53 GMT\\n </pubdate>\\n <createdate>\\n  Thu, 11 Jan 2024 18:14:53 GMT\\n </createdate>\\n <updatedate>\\n  Thu, 11 Jan 2024 18:24:59 GMT\\n </updatedate>\\n <platforms>\\n  <windows>\\n   yes\\n  </windows>\\n  <linux>\\n   yes\\n  </linux>\\n  <android>\\n   yes\\n  </android>\\n </platforms>\\n</item>\\n'"
      ]
     },
     "execution_count": 24,
     "metadata": {},
     "output_type": "execute_result"
    }
   ],
   "source": [
    "item.prettify()"
   ]
  },
  {
   "cell_type": "code",
   "execution_count": 12,
   "metadata": {},
   "outputs": [],
   "source": [
    "game = {}\n",
    "game['title'] = item.find('title').text\n",
    "game['plainTitle'] = item.find('plaintitle').text\n",
    "game['link'] = item.find('link').text\n",
    "game['description'] = item.find('description').text\n",
    "game['updateDate'] = item.find('updatedate').text"
   ]
  },
  {
   "cell_type": "code",
   "execution_count": 13,
   "metadata": {},
   "outputs": [
    {
     "data": {
      "text/plain": [
       "{'title': 'Tatko [Free] [Visual Novel] [Windows] [Linux] [Android]',\n",
       " 'plainTitle': 'Tatko',\n",
       " 'link': '',\n",
       " 'description': ']]>',\n",
       " 'updateDate': 'Thu, 11 Jan 2024 18:24:59 GMT'}"
      ]
     },
     "execution_count": 13,
     "metadata": {},
     "output_type": "execute_result"
    }
   ],
   "source": [
    "game"
   ]
  },
  {
   "cell_type": "code",
   "execution_count": 39,
   "metadata": {},
   "outputs": [
    {
     "data": {
      "text/plain": [
       "[None]"
      ]
     },
     "execution_count": 39,
     "metadata": {},
     "output_type": "execute_result"
    }
   ],
   "source": [
    "[platform.name for platform in items[0].find('platforms').children]"
   ]
  },
  {
   "cell_type": "code",
   "execution_count": 49,
   "metadata": {},
   "outputs": [
    {
     "data": {
      "text/plain": [
       "['windows']"
      ]
     },
     "execution_count": 49,
     "metadata": {},
     "output_type": "execute_result"
    }
   ],
   "source": [
    "[platform.name for platform in items[25].find('platforms')]"
   ]
  },
  {
   "cell_type": "code",
   "execution_count": 29,
   "metadata": {},
   "outputs": [],
   "source": [
    "platforms = items[6].find('platforms')"
   ]
  },
  {
   "cell_type": "code",
   "execution_count": 36,
   "metadata": {},
   "outputs": [
    {
     "data": {
      "text/plain": [
       "'android'"
      ]
     },
     "execution_count": 36,
     "metadata": {},
     "output_type": "execute_result"
    }
   ],
   "source": [
    "list(platforms.children)[0].name"
   ]
  },
  {
   "cell_type": "code",
   "execution_count": 52,
   "metadata": {},
   "outputs": [],
   "source": [
    "item = items[0]"
   ]
  },
  {
   "cell_type": "code",
   "execution_count": 53,
   "metadata": {},
   "outputs": [
    {
     "data": {
      "text/plain": [
       "['html']"
      ]
     },
     "execution_count": 53,
     "metadata": {},
     "output_type": "execute_result"
    }
   ],
   "source": [
    "[platform.name if platform.name is not None else 'html' for platform in item.find('platforms')]"
   ]
  },
  {
   "cell_type": "code",
   "execution_count": 55,
   "metadata": {},
   "outputs": [],
   "source": [
    "import itchapi"
   ]
  },
  {
   "cell_type": "code",
   "execution_count": 58,
   "metadata": {},
   "outputs": [
    {
     "name": "stderr",
     "output_type": "stream",
     "text": [
      "/Users/danielperry/Developer/steam-natural-search/01_gamedataset/.venv_01a/lib/python3.11/site-packages/bs4/builder/__init__.py:545: XMLParsedAsHTMLWarning: It looks like you're parsing an XML document using an HTML parser. If this really is an HTML document (maybe it's XHTML?), you can ignore or filter this warning. If it's XML, you should know that using an XML parser will be more reliable. To parse this document as XML, make sure you have the lxml package installed, and pass the keyword argument `features=\"xml\"` into the BeautifulSoup constructor.\n",
      "  warnings.warn(\n"
     ]
    },
    {
     "data": {
      "text/plain": [
       "[{'title': 'Tatko [Free] [Visual Novel] [Windows] [Linux] [Android]',\n",
       "  'plainTitle': 'Tatko',\n",
       "  'link': '',\n",
       "  'description': ']]>',\n",
       "  'updateDate': 'Thu, 11 Jan 2024 18:24:59 GMT'},\n",
       " {'title': 'FUSION [Free] [Action] [Windows] [macOS] [Linux]',\n",
       "  'plainTitle': 'FUSION',\n",
       "  'link': '',\n",
       "  'description': ']]>',\n",
       "  'updateDate': 'Thu, 11 Jan 2024 18:24:02 GMT'},\n",
       " {'title': 'Blocky Game! [Free] [Strategy] [Windows]',\n",
       "  'plainTitle': 'Blocky Game!',\n",
       "  'link': '',\n",
       "  'description': ']]>',\n",
       "  'updateDate': 'Thu, 11 Jan 2024 18:18:36 GMT'},\n",
       " {'title': 'Pong [Free] [Action]',\n",
       "  'plainTitle': 'Pong',\n",
       "  'link': '',\n",
       "  'description': ']]>',\n",
       "  'updateDate': 'Thu, 11 Jan 2024 18:07:15 GMT'},\n",
       " {'title': 'Empty Bullets [Free] [Shooter] [Windows]',\n",
       "  'plainTitle': 'Empty Bullets',\n",
       "  'link': '',\n",
       "  'description': ']]>',\n",
       "  'updateDate': 'Thu, 11 Jan 2024 17:48:22 GMT'},\n",
       " {'title': 'A descida [Free] [Adventure] [Windows]',\n",
       "  'plainTitle': 'A descida',\n",
       "  'link': '',\n",
       "  'description': ']]>',\n",
       "  'updateDate': 'Thu, 11 Jan 2024 17:46:07 GMT'},\n",
       " {'title': 'Lights Out [Free]',\n",
       "  'plainTitle': 'Lights Out',\n",
       "  'link': '',\n",
       "  'description': ']]>',\n",
       "  'updateDate': 'Thu, 11 Jan 2024 17:41:30 GMT'},\n",
       " {'title': 'Lights Out [Free]',\n",
       "  'plainTitle': 'Lights Out',\n",
       "  'link': '',\n",
       "  'description': ']]>',\n",
       "  'updateDate': 'Thu, 11 Jan 2024 17:41:00 GMT'},\n",
       " {'title': 'Infinite Drive [Free] [Action] [Windows] [macOS] [Linux]',\n",
       "  'plainTitle': 'Infinite Drive',\n",
       "  'link': '',\n",
       "  'description': ']]>',\n",
       "  'updateDate': 'Thu, 11 Jan 2024 17:37:07 GMT'},\n",
       " {'title': 'Detroit Pigeon [Free] [Action] [Windows]',\n",
       "  'plainTitle': 'Detroit Pigeon',\n",
       "  'link': '',\n",
       "  'description': ']]>',\n",
       "  'updateDate': 'Thu, 11 Jan 2024 17:31:24 GMT'},\n",
       " {'title': 'non-solar [Free] [Action] [Windows]',\n",
       "  'plainTitle': 'non-solar',\n",
       "  'link': '',\n",
       "  'description': ']]>',\n",
       "  'updateDate': 'Thu, 11 Jan 2024 17:30:42 GMT'},\n",
       " {'title': 'Knife it out! [Free] [Shooter]',\n",
       "  'plainTitle': 'Knife it out!',\n",
       "  'link': '',\n",
       "  'description': ']]>',\n",
       "  'updateDate': 'Thu, 11 Jan 2024 17:28:11 GMT'},\n",
       " {'title': 'Shoola Hell [Free] [Windows]',\n",
       "  'plainTitle': 'Shoola Hell',\n",
       "  'link': '',\n",
       "  'description': ']]>',\n",
       "  'updateDate': 'Thu, 11 Jan 2024 17:23:51 GMT'},\n",
       " {'title': 'The Walls Speak To Me (Lite Version) [Free] [Survival] [Windows]',\n",
       "  'plainTitle': 'The Walls Speak To Me (Lite Version)',\n",
       "  'link': '',\n",
       "  'description': ']]>',\n",
       "  'updateDate': 'Thu, 11 Jan 2024 17:23:14 GMT'},\n",
       " {'title': 'Desvie dos carros [Free] [Other] [Windows]',\n",
       "  'plainTitle': 'Desvie dos carros',\n",
       "  'link': '',\n",
       "  'description': ']]>',\n",
       "  'updateDate': 'Thu, 11 Jan 2024 17:21:31 GMT'},\n",
       " {'title': 'ThrowBird [Free]',\n",
       "  'plainTitle': 'ThrowBird',\n",
       "  'link': '',\n",
       "  'description': ']]>',\n",
       "  'updateDate': 'Thu, 11 Jan 2024 17:15:18 GMT'},\n",
       " {'title': 'A Dungeon Story [Free]',\n",
       "  'plainTitle': 'A Dungeon Story',\n",
       "  'link': '',\n",
       "  'description': ']]>',\n",
       "  'updateDate': 'Thu, 11 Jan 2024 17:17:16 GMT'},\n",
       " {'title': 'BACKROOMS [Free] [Survival] [Android]',\n",
       "  'plainTitle': 'BACKROOMS',\n",
       "  'link': '',\n",
       "  'description': ']]>',\n",
       "  'updateDate': 'Thu, 11 Jan 2024 17:32:04 GMT'},\n",
       " {'title': 'WIRES [Free] [Puzzle] [Windows]',\n",
       "  'plainTitle': 'WIRES',\n",
       "  'link': '',\n",
       "  'description': ']]>',\n",
       "  'updateDate': 'Thu, 11 Jan 2024 17:09:51 GMT'},\n",
       " {'title': 'A horror game I made in 3(ish) days. [Free] [Other] [Windows]',\n",
       "  'plainTitle': 'A horror game I made in 3(ish) days.',\n",
       "  'link': '',\n",
       "  'description': ']]>',\n",
       "  'updateDate': 'Thu, 11 Jan 2024 16:57:45 GMT'},\n",
       " {'title': 'Stack Burger: The Food Tower Challenge [Free] [Strategy] [Android]',\n",
       "  'plainTitle': 'Stack Burger: The Food Tower Challenge',\n",
       "  'link': '',\n",
       "  'description': ']]>',\n",
       "  'updateDate': 'Thu, 11 Jan 2024 16:55:38 GMT'},\n",
       " {'title': 'Nightmare Escape [Free] [Platformer]',\n",
       "  'plainTitle': 'Nightmare Escape',\n",
       "  'link': '',\n",
       "  'description': ']]>',\n",
       "  'updateDate': 'Thu, 11 Jan 2024 16:53:30 GMT'},\n",
       " {'title': 'Lil Gnome [Free] [Adventure]',\n",
       "  'plainTitle': 'Lil Gnome',\n",
       "  'link': '',\n",
       "  'description': ']]>',\n",
       "  'updateDate': 'Thu, 11 Jan 2024 16:49:53 GMT'},\n",
       " {'title': 'CNC Machine Prototype [Free] [Simulation]',\n",
       "  'plainTitle': 'CNC Machine Prototype',\n",
       "  'link': '',\n",
       "  'description': ']]>',\n",
       "  'updateDate': 'Thu, 11 Jan 2024 17:01:12 GMT'},\n",
       " {'title': 'Paper Icarus [Free] [Platformer] [Android]',\n",
       "  'plainTitle': 'Paper Icarus',\n",
       "  'link': '',\n",
       "  'description': ']]>',\n",
       "  'updateDate': 'Thu, 11 Jan 2024 16:46:41 GMT'},\n",
       " {'title': 'His name is Krum [Free] [Survival]',\n",
       "  'plainTitle': 'His name is Krum',\n",
       "  'link': '',\n",
       "  'description': ']]>',\n",
       "  'updateDate': 'Thu, 11 Jan 2024 16:43:12 GMT'},\n",
       " {'title': 'Radio [Free] [Other]',\n",
       "  'plainTitle': 'Radio',\n",
       "  'link': '',\n",
       "  'description': ']]>',\n",
       "  'updateDate': 'Thu, 11 Jan 2024 16:38:33 GMT'},\n",
       " {'title': 'Moonlight Market [Free] [Interactive Fiction] [Windows]',\n",
       "  'plainTitle': 'Moonlight Market',\n",
       "  'link': '',\n",
       "  'description': ']]>',\n",
       "  'updateDate': 'Thu, 11 Jan 2024 16:37:17 GMT'},\n",
       " {'title': 'My Little Balloon Stand [Free] [Other]',\n",
       "  'plainTitle': 'My Little Balloon Stand',\n",
       "  'link': '',\n",
       "  'description': ']]>',\n",
       "  'updateDate': 'Thu, 11 Jan 2024 16:42:17 GMT'},\n",
       " {'title': \"NMIXX's Adventure [Free] [Platformer]\",\n",
       "  'plainTitle': \"NMIXX's Adventure\",\n",
       "  'link': '',\n",
       "  'description': ']]>',\n",
       "  'updateDate': 'Thu, 11 Jan 2024 16:27:43 GMT'},\n",
       " {'title': '⚔︎ SongBird Story (•ө• ) -- ( Gameboy ) ( Zelda 2 Like ) [Free] [Adventure] [Windows] [Android]',\n",
       "  'plainTitle': '⚔︎ SongBird Story (•ө• ) -- ( Gameboy ) ( Zelda 2 Like )',\n",
       "  'link': '',\n",
       "  'description': ']]>',\n",
       "  'updateDate': 'Thu, 11 Jan 2024 16:27:18 GMT'},\n",
       " {'title': 'Asteroids [Free]',\n",
       "  'plainTitle': 'Asteroids',\n",
       "  'link': '',\n",
       "  'description': ']]>',\n",
       "  'updateDate': 'Thu, 11 Jan 2024 18:10:18 GMT'},\n",
       " {'title': \"Freddy's Eclipse: The Secrets of the Past (FNAF Game) [Free] [Survival] [Windows] [Android]\",\n",
       "  'plainTitle': \"Freddy's Eclipse: The Secrets of the Past (FNAF Game)\",\n",
       "  'link': '',\n",
       "  'description': ']]>',\n",
       "  'updateDate': 'Thu, 11 Jan 2024 16:22:29 GMT'},\n",
       " {'title': 'The curse of gravity [Free] [Platformer] [Android]',\n",
       "  'plainTitle': 'The curse of gravity',\n",
       "  'link': '',\n",
       "  'description': ']]>',\n",
       "  'updateDate': 'Thu, 11 Jan 2024 16:23:51 GMT'},\n",
       " {'title': 'PennyPixel [Free] [Platformer]',\n",
       "  'plainTitle': 'PennyPixel',\n",
       "  'link': '',\n",
       "  'description': ']]>',\n",
       "  'updateDate': 'Thu, 11 Jan 2024 16:14:23 GMT'},\n",
       " {'title': 'The World Depends on Me [Free] [Strategy]',\n",
       "  'plainTitle': 'The World Depends on Me',\n",
       "  'link': '',\n",
       "  'description': ']]>',\n",
       "  'updateDate': 'Thu, 11 Jan 2024 16:04:04 GMT'}]"
      ]
     },
     "execution_count": 58,
     "metadata": {},
     "output_type": "execute_result"
    }
   ],
   "source": [
    "itchapi.get_newest_games(1)"
   ]
  },
  {
   "cell_type": "code",
   "execution_count": 57,
   "metadata": {},
   "outputs": [
    {
     "data": {
      "text/plain": [
       "<module 'itchapi' from '/Users/danielperry/Developer/steam-natural-search/01_gamedataset/itchapi.py'>"
      ]
     },
     "execution_count": 57,
     "metadata": {},
     "output_type": "execute_result"
    }
   ],
   "source": [
    "import importlib\n",
    "\n",
    "importlib.reload(itchapi)\n"
   ]
  },
  {
   "cell_type": "code",
   "execution_count": null,
   "metadata": {},
   "outputs": [],
   "source": []
  }
 ],
 "metadata": {
  "kernelspec": {
   "display_name": ".venv",
   "language": "python",
   "name": "python3"
  },
  "language_info": {
   "codemirror_mode": {
    "name": "ipython",
    "version": 3
   },
   "file_extension": ".py",
   "mimetype": "text/x-python",
   "name": "python",
   "nbconvert_exporter": "python",
   "pygments_lexer": "ipython3",
   "version": "3.11.9"
  }
 },
 "nbformat": 4,
 "nbformat_minor": 2
}
