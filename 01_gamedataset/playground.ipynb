{
 "cells": [
  {
   "cell_type": "markdown",
   "metadata": {},
   "source": [
    "## SteamAPI"
   ]
  },
  {
   "cell_type": "code",
   "execution_count": 1,
   "metadata": {},
   "outputs": [],
   "source": [
    "from steamapi import get_game_list, get_app_details, get_n_reviews\n",
    "import logging\n",
    "\n",
    "logging.basicConfig(level=logging.DEBUG)"
   ]
  },
  {
   "cell_type": "markdown",
   "metadata": {},
   "source": [
    "### Game list"
   ]
  },
  {
   "cell_type": "code",
   "execution_count": 2,
   "metadata": {},
   "outputs": [
    {
     "name": "stderr",
     "output_type": "stream",
     "text": [
      "DEBUG:root:Getting game list from Steam API\n",
      "DEBUG:root:Calling API: https://api.steampowered.com/ISteamApps/GetAppList/v2/\n",
      "DEBUG:root:Params: {'format': 'json'}\n",
      "DEBUG:urllib3.connectionpool:Starting new HTTPS connection (1): api.steampowered.com:443\n",
      "DEBUG:urllib3.connectionpool:https://api.steampowered.com:443 \"GET /ISteamApps/GetAppList/v2/?format=json HTTP/1.1\" 200 2772200\n",
      "INFO:root:Found 180495 games on in steam app list.\n"
     ]
    }
   ],
   "source": [
    "game_list = get_game_list()"
   ]
  },
  {
   "cell_type": "markdown",
   "metadata": {},
   "source": [
    "### App Details"
   ]
  },
  {
   "cell_type": "code",
   "execution_count": 6,
   "metadata": {},
   "outputs": [
    {
     "data": {
      "text/plain": [
       "{'appid': 748280, 'name': 'Klondike Solitaire Kings - Money Cat'}"
      ]
     },
     "execution_count": 6,
     "metadata": {},
     "output_type": "execute_result"
    }
   ],
   "source": [
    "example_app = game_list[1234]\n",
    "\n",
    "example_app"
   ]
  },
  {
   "cell_type": "code",
   "execution_count": 13,
   "metadata": {},
   "outputs": [
    {
     "name": "stderr",
     "output_type": "stream",
     "text": [
      "DEBUG:root:Getting details for appid 489830\n",
      "DEBUG:root:Calling API: https://store.steampowered.com/api/appdetails\n",
      "DEBUG:root:Params: {'appids': 489830}\n",
      "DEBUG:urllib3.connectionpool:Starting new HTTPS connection (1): store.steampowered.com:443\n",
      "DEBUG:urllib3.connectionpool:https://store.steampowered.com:443 \"GET /api/appdetails?appids=489830 HTTP/1.1\" 200 3444\n"
     ]
    },
    {
     "data": {
      "text/plain": [
       "{'type': 'game',\n",
       " 'name': 'The Elder Scrolls V: Skyrim Special Edition',\n",
       " 'steam_appid': 489830,\n",
       " 'required_age': '17',\n",
       " 'is_free': False,\n",
       " 'dlc': [1746860],\n",
       " 'detailed_description': '<h1>The Elder Scrolls V: Skyrim Anniversary Edition</h1><p><img src=\"https://cdn.akamai.steamstatic.com/steam/apps/489830/extras/Skyrim-AnnivEdition_Steam_MainCapsule_616x353-01.jpg?t=1701807334\" /><br><br>The Anniversary Edition includes a decade worth of content: the critically acclaimed core game and add-ons of Skyrim Special Edition, plus Creation Club content released on or prior to November 11, 2021 - including quests, dungeons, bosses, weapons, spells, and more.<br><br>For a full list of Creation Club content included read <a href=\"https://steamcommunity.com/linkfilter/?u=https%3A%2F%2Fbethesda.net%2Fen%2Farticle%2F3mxTW4iQYGrVZrWRqVfomQ%2Fskyrim-anniversary-edition-and-creation-club-content-first-look\" target=\"_blank\" rel=\" noopener\"  >here</a>.</p><br><h1>Creation Kit</h1><p><a href=\"https://store.steampowered.com/app/1946180/Skyrim_Special_Edition_Creation_Kit/\" target=\"_blank\" rel=\"\"  id=\"dynamiclink_0\" >https://store.steampowered.com/app/1946180/Skyrim_Special_Edition_Creation_Kit/</a></p><br><h1>About the Game</h1>Winner of more than 200 Game of the Year Awards, The Elder Scrolls V: Skyrim Special Edition brings the epic fantasy to life in stunning detail. The Special Edition includes the critically acclaimed game and add-ons with all-new features like remastered art and effects, volumetric god rays, dynamic depth of field, screen-space reflections, and more. <br><br>Skyrim Special Edition also brings the power of Bethesda Game Studios Creations to PC and consoles. New quests, environments, characters, dialogue, armor, weapons and more – with Creations, there are no limits to what you can experience.',\n",
       " 'about_the_game': 'Winner of more than 200 Game of the Year Awards, The Elder Scrolls V: Skyrim Special Edition brings the epic fantasy to life in stunning detail. The Special Edition includes the critically acclaimed game and add-ons with all-new features like remastered art and effects, volumetric god rays, dynamic depth of field, screen-space reflections, and more. <br />\\r\\n<br />\\r\\nSkyrim Special Edition also brings the power of Bethesda Game Studios Creations to PC and consoles. New quests, environments, characters, dialogue, armor, weapons and more – with Creations, there are no limits to what you can experience.',\n",
       " 'short_description': 'Winner of more than 200 Game of the Year Awards, The Elder Scrolls V: Skyrim Special Edition brings the epic fantasy to life in stunning detail. The Special Edition includes the critically acclaimed game and add-ons with all-new features.',\n",
       " 'supported_languages': 'English<strong>*</strong>, French<strong>*</strong>, Italian<strong>*</strong>, German<strong>*</strong>, Spanish - Spain<strong>*</strong>, Polish<strong>*</strong>, Traditional Chinese, Russian<strong>*</strong>, Japanese<strong>*</strong><br><strong>*</strong>languages with full audio support',\n",
       " 'header_image': 'https://cdn.akamai.steamstatic.com/steam/apps/489830/header.jpg?t=1701807334',\n",
       " 'capsule_image': 'https://cdn.akamai.steamstatic.com/steam/apps/489830/capsule_231x87.jpg?t=1701807334',\n",
       " 'capsule_imagev5': 'https://cdn.akamai.steamstatic.com/steam/apps/489830/capsule_184x69.jpg?t=1701807334',\n",
       " 'website': None,\n",
       " 'pc_requirements': {'minimum': '<strong>Minimum:</strong><br><ul class=\"bb_ul\"><li><strong>OS *:</strong> Windows 7/8.1/10 (64-bit Version)<br></li><li><strong>Processor:</strong> Intel i5-750/AMD Phenom II X4-945<br></li><li><strong>Memory:</strong> 8 GB RAM<br></li><li><strong>Graphics:</strong> NVIDIA GTX 470 1GB /AMD HD 7870 2GB<br></li><li><strong>Storage:</strong> 12 GB available space</li></ul>',\n",
       "  'recommended': '<strong>Recommended:</strong><br><ul class=\"bb_ul\"><li><strong>OS *:</strong> Windows 7/8.1/10 (64-bit Version)<br></li><li><strong>Processor:</strong> Intel i5-2400/AMD FX-8320<br></li><li><strong>Memory:</strong> 8 GB RAM<br></li><li><strong>Graphics:</strong> NVIDIA GTX 780 3GB /AMD R9 290 4GB<br></li><li><strong>Storage:</strong> 12 GB available space</li></ul>'},\n",
       " 'mac_requirements': [],\n",
       " 'linux_requirements': [],\n",
       " 'legal_notice': '© 2016 Bethesda Softworks LLC, a ZeniMax Media company. The Elder Scrolls, Skyrim, Bethesda, Bethesda Game Studios, Bethesda Softworks, ZeniMax and related logos are registered trademarks or trademarks of ZeniMax Media Inc. in the U.S. and/or other countries. All Rights Reserved.<br><br><a href=\"https://steamcommunity.com/linkfilter/?u=https%3A%2F%2Fbethesda.net%2Fdocument%2Fprivacy-policy\" target=\"_blank\" rel=\" noopener\"  >Privacy Policy</a>',\n",
       " 'developers': ['Bethesda Game Studios'],\n",
       " 'publishers': ['Bethesda Softworks'],\n",
       " 'price_overview': {'currency': 'CAD',\n",
       "  'initial': 5349,\n",
       "  'final': 1069,\n",
       "  'discount_percent': 80,\n",
       "  'initial_formatted': 'CDN$ 53.49',\n",
       "  'final_formatted': 'CDN$ 10.69'},\n",
       " 'packages': [110687, 626153],\n",
       " 'package_groups': [{'name': 'default',\n",
       "   'title': 'Buy The Elder Scrolls V: Skyrim Special Edition',\n",
       "   'description': '',\n",
       "   'selection_text': 'Select a purchase option',\n",
       "   'save_text': '',\n",
       "   'display_type': 0,\n",
       "   'is_recurring_subscription': 'false',\n",
       "   'subs': [{'packageid': 110687,\n",
       "     'percent_savings_text': '-80% ',\n",
       "     'percent_savings': 0,\n",
       "     'option_text': 'The Elder Scrolls V: Skyrim Special Edition - <span class=\"discount_original_price\">CDN$ 53.49</span> CDN$ 10.69',\n",
       "     'option_description': '',\n",
       "     'can_get_free_license': '0',\n",
       "     'is_free_license': False,\n",
       "     'price_in_cents_with_discount': 1069},\n",
       "    {'packageid': 626153,\n",
       "     'percent_savings_text': '-60% ',\n",
       "     'percent_savings': 0,\n",
       "     'option_text': 'The Elder Scrolls V: Skyrim Anniversary Edition - <span class=\"discount_original_price\">CDN$ 66.99</span> CDN$ 26.79',\n",
       "     'option_description': '',\n",
       "     'can_get_free_license': '0',\n",
       "     'is_free_license': False,\n",
       "     'price_in_cents_with_discount': 2679}]}],\n",
       " 'platforms': {'windows': True, 'mac': False, 'linux': False},\n",
       " 'metacritic': {'score': 74,\n",
       "  'url': 'https://www.metacritic.com/game/pc/the-elder-scrolls-v-skyrim-special-edition?ftag=MCD-06-10aaa1f'},\n",
       " 'categories': [{'id': 2, 'description': 'Single-player'},\n",
       "  {'id': 22, 'description': 'Steam Achievements'},\n",
       "  {'id': 18, 'description': 'Partial Controller Support'},\n",
       "  {'id': 23, 'description': 'Steam Cloud'},\n",
       "  {'id': 41, 'description': 'Remote Play on Phone'},\n",
       "  {'id': 42, 'description': 'Remote Play on Tablet'}],\n",
       " 'genres': [{'id': '3', 'description': 'RPG'}],\n",
       " 'screenshots': [{'id': 0,\n",
       "   'path_thumbnail': 'https://cdn.akamai.steamstatic.com/steam/apps/489830/ss_73c1a0bb7e1720c8a1847186c3ddd837d3ca7a8d.600x338.jpg?t=1701807334',\n",
       "   'path_full': 'https://cdn.akamai.steamstatic.com/steam/apps/489830/ss_73c1a0bb7e1720c8a1847186c3ddd837d3ca7a8d.1920x1080.jpg?t=1701807334'},\n",
       "  {'id': 1,\n",
       "   'path_thumbnail': 'https://cdn.akamai.steamstatic.com/steam/apps/489830/ss_d64b646612ab1402bdda8e400672aa0dbcb352ea.600x338.jpg?t=1701807334',\n",
       "   'path_full': 'https://cdn.akamai.steamstatic.com/steam/apps/489830/ss_d64b646612ab1402bdda8e400672aa0dbcb352ea.1920x1080.jpg?t=1701807334'},\n",
       "  {'id': 2,\n",
       "   'path_thumbnail': 'https://cdn.akamai.steamstatic.com/steam/apps/489830/ss_b6bb6f79278505b3f48567f08c21f7a0eb171c68.600x338.jpg?t=1701807334',\n",
       "   'path_full': 'https://cdn.akamai.steamstatic.com/steam/apps/489830/ss_b6bb6f79278505b3f48567f08c21f7a0eb171c68.1920x1080.jpg?t=1701807334'},\n",
       "  {'id': 3,\n",
       "   'path_thumbnail': 'https://cdn.akamai.steamstatic.com/steam/apps/489830/ss_921ccea650df936a0b14ebd5dd4ecc73c1d2a12d.600x338.jpg?t=1701807334',\n",
       "   'path_full': 'https://cdn.akamai.steamstatic.com/steam/apps/489830/ss_921ccea650df936a0b14ebd5dd4ecc73c1d2a12d.1920x1080.jpg?t=1701807334'},\n",
       "  {'id': 4,\n",
       "   'path_thumbnail': 'https://cdn.akamai.steamstatic.com/steam/apps/489830/ss_8c7ecd394afb581b9b2137a3de04433f78fdf4ea.600x338.jpg?t=1701807334',\n",
       "   'path_full': 'https://cdn.akamai.steamstatic.com/steam/apps/489830/ss_8c7ecd394afb581b9b2137a3de04433f78fdf4ea.1920x1080.jpg?t=1701807334'},\n",
       "  {'id': 5,\n",
       "   'path_thumbnail': 'https://cdn.akamai.steamstatic.com/steam/apps/489830/ss_50c3da9e29e9b0368889379cdd03a71aba8d614c.600x338.jpg?t=1701807334',\n",
       "   'path_full': 'https://cdn.akamai.steamstatic.com/steam/apps/489830/ss_50c3da9e29e9b0368889379cdd03a71aba8d614c.1920x1080.jpg?t=1701807334'},\n",
       "  {'id': 6,\n",
       "   'path_thumbnail': 'https://cdn.akamai.steamstatic.com/steam/apps/489830/ss_2ca72f4ecc42a18dd4bf056c539a9794c2b2493d.600x338.jpg?t=1701807334',\n",
       "   'path_full': 'https://cdn.akamai.steamstatic.com/steam/apps/489830/ss_2ca72f4ecc42a18dd4bf056c539a9794c2b2493d.1920x1080.jpg?t=1701807334'},\n",
       "  {'id': 7,\n",
       "   'path_thumbnail': 'https://cdn.akamai.steamstatic.com/steam/apps/489830/ss_5d19c69d33abca6f6271d75f371d4241c0d6b2d1.600x338.jpg?t=1701807334',\n",
       "   'path_full': 'https://cdn.akamai.steamstatic.com/steam/apps/489830/ss_5d19c69d33abca6f6271d75f371d4241c0d6b2d1.1920x1080.jpg?t=1701807334'}],\n",
       " 'movies': [{'id': 256672927,\n",
       "   'name': 'Skyrim Special Edition Trailer',\n",
       "   'thumbnail': 'https://cdn.akamai.steamstatic.com/steam/apps/256672927/movie.293x165.jpg?t=1476991615',\n",
       "   'webm': {'480': 'http://cdn.akamai.steamstatic.com/steam/apps/256672927/movie480.webm?t=1476991615',\n",
       "    'max': 'http://cdn.akamai.steamstatic.com/steam/apps/256672927/movie_max.webm?t=1476991615'},\n",
       "   'mp4': {'480': 'http://cdn.akamai.steamstatic.com/steam/apps/256672927/movie480.mp4?t=1476991615',\n",
       "    'max': 'http://cdn.akamai.steamstatic.com/steam/apps/256672927/movie_max.mp4?t=1476991615'},\n",
       "   'highlight': True},\n",
       "  {'id': 256672841,\n",
       "   'name': 'Skyrim SE Live Action Trailer',\n",
       "   'thumbnail': 'https://cdn.akamai.steamstatic.com/steam/apps/256672841/movie.293x165.jpg?t=1476909226',\n",
       "   'webm': {'480': 'http://cdn.akamai.steamstatic.com/steam/apps/256672841/movie480.webm?t=1476909226',\n",
       "    'max': 'http://cdn.akamai.steamstatic.com/steam/apps/256672841/movie_max.webm?t=1476909226'},\n",
       "   'mp4': {'480': 'http://cdn.akamai.steamstatic.com/steam/apps/256672841/movie480.mp4?t=1476909226',\n",
       "    'max': 'http://cdn.akamai.steamstatic.com/steam/apps/256672841/movie_max.mp4?t=1476909226'},\n",
       "   'highlight': True}],\n",
       " 'recommendations': {'total': 148296},\n",
       " 'achievements': {'total': 75,\n",
       "  'highlighted': [{'name': 'Unbound',\n",
       "    'path': 'https://cdn.akamai.steamstatic.com/steamcommunity/public/images/apps/489830/0a1b47b28556ff20ec88acc0aca0ef6793cd5383.jpg'},\n",
       "   {'name': 'Bleak Falls Barrow',\n",
       "    'path': 'https://cdn.akamai.steamstatic.com/steamcommunity/public/images/apps/489830/47f8b520d258247d69e46592e6790e17df0ed5f5.jpg'},\n",
       "   {'name': 'The Way of the Voice',\n",
       "    'path': 'https://cdn.akamai.steamstatic.com/steamcommunity/public/images/apps/489830/d7feacd4f001a31b316b50f5f5ac051c82c40844.jpg'},\n",
       "   {'name': 'Diplomatic Immunity',\n",
       "    'path': 'https://cdn.akamai.steamstatic.com/steamcommunity/public/images/apps/489830/d23c6bf6e8f6dff395a228e1a7aa2711fcfcdcc3.jpg'},\n",
       "   {'name': \"Alduin's Wall\",\n",
       "    'path': 'https://cdn.akamai.steamstatic.com/steamcommunity/public/images/apps/489830/155eb8a774d15dde14afd25877658f73f33b2334.jpg'},\n",
       "   {'name': 'Elder Knowledge',\n",
       "    'path': 'https://cdn.akamai.steamstatic.com/steamcommunity/public/images/apps/489830/b38012583bd139ec05e79fee602c40f5b15e3654.jpg'},\n",
       "   {'name': 'The Fallen',\n",
       "    'path': 'https://cdn.akamai.steamstatic.com/steamcommunity/public/images/apps/489830/cb5e5bcdb7f03fb09db3dfffdc6f12b6f384925a.jpg'},\n",
       "   {'name': 'Dragonslayer',\n",
       "    'path': 'https://cdn.akamai.steamstatic.com/steamcommunity/public/images/apps/489830/8d831c49ad6312f798b938aefd6fd2f6e0dda0ac.jpg'},\n",
       "   {'name': 'Take Up Arms',\n",
       "    'path': 'https://cdn.akamai.steamstatic.com/steamcommunity/public/images/apps/489830/960f34c39956c147aa55a050c407b059a8e86b8b.jpg'},\n",
       "   {'name': 'Blood Oath',\n",
       "    'path': 'https://cdn.akamai.steamstatic.com/steamcommunity/public/images/apps/489830/57cbdf88fc096bed3ed8af57912a010ce6830f54.jpg'}]},\n",
       " 'release_date': {'coming_soon': False, 'date': '27 Oct, 2016'},\n",
       " 'support_info': {'url': 'http://help.bethesda.net/', 'email': ''},\n",
       " 'background': 'https://cdn.akamai.steamstatic.com/steam/apps/489830/page_bg_generated_v6b.jpg?t=1701807334',\n",
       " 'background_raw': 'https://cdn.akamai.steamstatic.com/steam/apps/489830/page.bg.jpg?t=1701807334',\n",
       " 'content_descriptors': {'ids': [1, 5],\n",
       "  'notes': 'Skyrim contains Blood and Gore, Intense Violence, Sexual Themes, Use of Alcohol, and Language.'}}"
      ]
     },
     "execution_count": 13,
     "metadata": {},
     "output_type": "execute_result"
    }
   ],
   "source": [
    "#game_details = get_app_details(example_app['appid'])\n",
    "game_details = get_app_details(489830)\n",
    "\n",
    "game_details"
   ]
  },
  {
   "cell_type": "code",
   "execution_count": 11,
   "metadata": {},
   "outputs": [
    {
     "data": {
      "text/plain": [
       "'[1, 2, 5]'"
      ]
     },
     "execution_count": 11,
     "metadata": {},
     "output_type": "execute_result"
    }
   ],
   "source": [
    "str(game_details['content_descriptors']['ids'])"
   ]
  },
  {
   "cell_type": "code",
   "execution_count": 8,
   "metadata": {},
   "outputs": [
    {
     "data": {
      "text/plain": [
       "(748280,\n",
       " 'Famous Card game also known as Klondike.<br />\\r\\nWe kept the game true to the spirit of the classic Solitaire (also known as Klondike or Patience)<br />\\r\\nKlondike Solitaire Kings features a beautiful custom designed card set in high resolution with 300+ levels, playing Patience on your desktop never looked this good!<br />\\r\\n<br />\\r\\nFeatures:<br />\\r\\n<br />\\r\\nFun Addicting Games of Solitaire Classic<br />\\r\\n300+ levels<br />\\r\\nKlondike Solitaire Draw 1 card<br />\\r\\nKlondike Solitaire Draw 3 cards<br />\\r\\nWinning Deals: Increase the challenge<br />\\r\\nVegas Cumulative: Keep your score rolling over<br />\\r\\nAddicting, unique ways to play<br />\\r\\nCustomizable beautiful themes<br />\\r\\nDaily challenges with different levels<br />\\r\\nClean and user-friendly menus<br />\\r\\nBig and easy to see cards<br />\\r\\nAuto-collect cards on completion<br />\\r\\nFeature to UNDO moves<br />\\r\\nFeature to use hints<br />\\r\\nStandard or Vegas scoring')"
      ]
     },
     "execution_count": 8,
     "metadata": {},
     "output_type": "execute_result"
    }
   ],
   "source": [
    "(game_details[\"steam_appid\"], game_details[\"detailed_description\"])"
   ]
  },
  {
   "cell_type": "markdown",
   "metadata": {},
   "source": [
    "### App Reviews"
   ]
  },
  {
   "cell_type": "code",
   "execution_count": 10,
   "metadata": {},
   "outputs": [
    {
     "data": {
      "text/plain": [
       "{'appid': 750380, 'name': \"Dead by Daylight - David's Donkey Jacket\"}"
      ]
     },
     "execution_count": 10,
     "metadata": {},
     "output_type": "execute_result"
    }
   ],
   "source": [
    "example_app = game_list[1111]\n",
    "\n",
    "example_app"
   ]
  },
  {
   "cell_type": "code",
   "execution_count": 3,
   "metadata": {},
   "outputs": [
    {
     "name": "stderr",
     "output_type": "stream",
     "text": [
      "DEBUG:root:Getting reviews for appid 100\n",
      "DEBUG:root:Calling API: https://store.steampowered.com/appreviews/100\n",
      "DEBUG:root:Params: {'json': 1, 'filter': 'all', 'language': 'english', 'review_type': 'all', 'purchase_type': 'all', 'cursor': b'*', 'num_per_page': 1}\n",
      "DEBUG:urllib3.connectionpool:Starting new HTTPS connection (1): store.steampowered.com:443\n",
      "DEBUG:urllib3.connectionpool:https://store.steampowered.com:443 \"GET /appreviews/100?json=1&filter=all&language=english&review_type=all&purchase_type=all&cursor=%2A&num_per_page=1 HTTP/1.1\" 200 473\n",
      "INFO:root:Found 1 reviews for appid 100\n"
     ]
    },
    {
     "data": {
      "text/plain": [
       "{'recommendationid': '149199541',\n",
       " 'author': {'steamid': '76561199384534578',\n",
       "  'num_games_owned': 115,\n",
       "  'num_reviews': 30,\n",
       "  'playtime_forever': 58,\n",
       "  'playtime_last_two_weeks': 0,\n",
       "  'playtime_at_review': 58,\n",
       "  'last_played': 1692620482},\n",
       " 'language': 'english',\n",
       " 'review': \"Answer to the people who say CS Doesn't have a lore\",\n",
       " 'timestamp_created': 1698680047,\n",
       " 'timestamp_updated': 1698680047,\n",
       " 'voted_up': True,\n",
       " 'votes_up': 3,\n",
       " 'votes_funny': 0,\n",
       " 'weighted_vote_score': '0.555555582046508789',\n",
       " 'comment_count': 1,\n",
       " 'steam_purchase': True,\n",
       " 'received_for_free': False,\n",
       " 'written_during_early_access': False,\n",
       " 'hidden_in_steam_china': True,\n",
       " 'steam_china_location': ''}"
      ]
     },
     "execution_count": 3,
     "metadata": {},
     "output_type": "execute_result"
    }
   ],
   "source": [
    "#reviews = get_n_reviews(example_app['appid'], 1)\n",
    "reviews = get_n_reviews('100', 1)\n",
    "\n",
    "reviews[0]"
   ]
  },
  {
   "cell_type": "code",
   "execution_count": null,
   "metadata": {},
   "outputs": [],
   "source": []
  }
 ],
 "metadata": {
  "kernelspec": {
   "display_name": ".venv",
   "language": "python",
   "name": "python3"
  },
  "language_info": {
   "codemirror_mode": {
    "name": "ipython",
    "version": 3
   },
   "file_extension": ".py",
   "mimetype": "text/x-python",
   "name": "python",
   "nbconvert_exporter": "python",
   "pygments_lexer": "ipython3",
   "version": "3.11.6"
  }
 },
 "nbformat": 4,
 "nbformat_minor": 2
}
