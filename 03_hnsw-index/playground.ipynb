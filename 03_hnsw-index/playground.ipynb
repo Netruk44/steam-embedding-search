{
 "cells": [
  {
   "cell_type": "markdown",
   "metadata": {},
   "source": [
    "# Init"
   ]
  },
  {
   "cell_type": "code",
   "execution_count": 30,
   "metadata": {},
   "outputs": [],
   "source": [
    "import hnswlib\n",
    "import numpy as np\n",
    "import sqlite3\n",
    "import pickle\n",
    "import tqdm\n",
    "import time"
   ]
  },
  {
   "cell_type": "code",
   "execution_count": 2,
   "metadata": {},
   "outputs": [],
   "source": [
    "# Open the database\n",
    "conn = sqlite3.connect('../steam_instructor-xl.db')"
   ]
  },
  {
   "cell_type": "code",
   "execution_count": 3,
   "metadata": {},
   "outputs": [],
   "source": [
    "# Helper functions\n",
    "\n",
    "def get_any_description_embedding():\n",
    "    c = conn.cursor()\n",
    "\n",
    "    c.execute(f'''\n",
    "        SELECT embedding FROM description_embeddings LIMIT 1\n",
    "    ''')\n",
    "    results = c.fetchone()[0]\n",
    "\n",
    "    c.close()\n",
    "\n",
    "    return pickle.loads(results)\n",
    "\n",
    "def get_description_embeddings_for_appid(appid):\n",
    "    c = conn.cursor()\n",
    "\n",
    "    c.execute(f'''\n",
    "        SELECT embedding FROM description_embeddings WHERE appid = ?\n",
    "    ''', (appid,))\n",
    "    results = c.fetchone()[0]\n",
    "\n",
    "    c.close()\n",
    "\n",
    "    return pickle.loads(results)\n",
    "\n",
    "def get_review_embeddings_for_appid(appid):\n",
    "    c = conn.cursor()\n",
    "\n",
    "    c.execute(f'''\n",
    "        SELECT recommendationid, embedding\n",
    "        FROM review_embeddings\n",
    "        WHERE appid = ?\n",
    "    ''', (appid,))\n",
    "    results = c.fetchall()\n",
    "\n",
    "    c.close()\n",
    "\n",
    "    return {recommendationid: pickle.loads(embedding) for recommendationid, embedding in results}\n",
    "\n",
    "def get_count_appids_with_description_embeddings():\n",
    "    c = conn.cursor()\n",
    "\n",
    "    c.execute(f'''\n",
    "        SELECT COUNT(DISTINCT appid) FROM description_embeddings\n",
    "    ''')\n",
    "    results = c.fetchone()[0]\n",
    "\n",
    "    c.close()\n",
    "\n",
    "    return results\n",
    "\n",
    "def get_count_appids_with_review_embeddings():\n",
    "    c = conn.cursor()\n",
    "\n",
    "    c.execute(f'''\n",
    "        SELECT COUNT(DISTINCT appid) FROM review_embeddings\n",
    "    ''')\n",
    "    results = c.fetchone()[0]\n",
    "\n",
    "    c.close()\n",
    "\n",
    "    return results\n",
    "\n",
    "def get_all_description_embeddings_generator(page_size):\n",
    "    c = conn.cursor()\n",
    "\n",
    "    c.execute(f'''\n",
    "        SELECT appid, embedding FROM description_embeddings\n",
    "    ''')\n",
    "\n",
    "    while True:\n",
    "        results = c.fetchmany(page_size)\n",
    "        if not results:\n",
    "            break\n",
    "        for appid, embedding in results:\n",
    "            yield appid, pickle.loads(embedding)\n",
    "\n",
    "    c.close()\n",
    "\n",
    "def get_batched_description_embeddings_generator(page_size):\n",
    "    c = conn.cursor()\n",
    "\n",
    "    c.execute(f'''\n",
    "        SELECT appid, embedding FROM description_embeddings\n",
    "    ''')\n",
    "\n",
    "    while True:\n",
    "        results = c.fetchmany(page_size)\n",
    "        if not results:\n",
    "            break\n",
    "        yield [(appid, pickle.loads(embedding)) for appid, embedding in results]\n",
    "\n",
    "    c.close()\n",
    "\n",
    "def get_all_review_embeddings_generator(page_size):\n",
    "    c = conn.cursor()\n",
    "\n",
    "    c.execute(f'''\n",
    "        SELECT appid, embedding FROM review_embeddings\n",
    "    ''')\n",
    "\n",
    "    while True:\n",
    "        results = c.fetchmany(page_size)\n",
    "        if not results:\n",
    "            break\n",
    "        for appid, embedding in results:\n",
    "            yield appid, pickle.loads(embedding)\n",
    "\n",
    "    c.close()\n",
    "\n",
    "def get_batched_review_embeddings_generator(page_size):\n",
    "    c = conn.cursor()\n",
    "\n",
    "    c.execute(f'''\n",
    "        SELECT appid, embedding FROM review_embeddings\n",
    "    ''')\n",
    "\n",
    "    while True:\n",
    "        results = c.fetchmany(page_size)\n",
    "        if not results:\n",
    "            break\n",
    "        yield [(appid, pickle.loads(embedding)) for appid, embedding in results]\n",
    "\n",
    "    c.close()\n",
    "\n",
    "def mean_pooling(embeddings):\n",
    "    return np.sum(embeddings, axis=0) / len(embeddings)\n",
    "\n",
    "def get_pooled_description_embedding_for_appid(appid):\n",
    "    return mean_pooling(get_description_embeddings_for_appid(appid))\n",
    "\n",
    "def get_pooled_review_embeddings_for_appid(appid):\n",
    "    all_review_embeddings = get_review_embeddings_for_appid(appid)\n",
    "    flat_review_embeddings = [review_embedding for review_id in all_review_embeddings for review_embedding in all_review_embeddings[review_id]]\n",
    "    return mean_pooling(flat_review_embeddings)\n",
    "\n",
    "\n",
    "\n",
    "def get_index_dimension():\n",
    "    return len(get_any_description_embedding()[0])"
   ]
  },
  {
   "cell_type": "markdown",
   "metadata": {},
   "source": [
    "# Recall Testing\n",
    "\n",
    "Testing recall using description embeddings with a variety of different distance algorithms, with 2000 queries made"
   ]
  },
  {
   "cell_type": "code",
   "execution_count": 13,
   "metadata": {},
   "outputs": [],
   "source": [
    "num_queries = 2000"
   ]
  },
  {
   "cell_type": "markdown",
   "metadata": {},
   "source": [
    "## `cosine` Distance\n",
    "\n",
    "**Results Table**  \n",
    "\n",
    "| k  | ef  | M  | recall | time to build | query time (batched) | query time (individual) |\n",
    "|----|-----|----|--------|---------------|----------------------|-------------------------|\n",
    "| 10 | 200 | 54 | 55-56% | N/A | N/A | N/A |\n",
    "| 10 | 400 | 48 | 77%  | N/A | N/A | N/A |                                          <!-- 77.01%  76.665% 77.075% -->\n",
    "| 10 | 800 | 48 | 88% | `4m15s` (?) | N/A | N/A |                                   <!-- 87.8%   87.985% 87.745% -->\n",
    "| 10 | 2000 | 48 | 95% | `7m53s` | `11s` total / `5.5ms` per query | N/A |          <!-- 95.27%  95.18%  95.145% -->\n",
    "| 10 | 2000 | 32 | 95% | `7m13s` | `10s` total / `4.75ms` per query | `25ms` per query |             <!-- 94.9%   94.96%  94.98%  -->\n",
    "| 10 | 5000 | 48 | 98% | N/A | `20s` total / `10ms` per query | `50ms` per query |  <!-- 97.68%  97.745% 97.68% -->\n",
    "\n",
    "<!-- not enough queries made -->\n",
    "<!--| 10 | 200 | 48 | ~56%    |-->\n",
    "\n",
    "(?) - Seems suspect\n"
   ]
  },
  {
   "cell_type": "code",
   "execution_count": 46,
   "metadata": {},
   "outputs": [],
   "source": [
    "dim = get_index_dimension()\n",
    "num_elements = get_count_appids_with_description_embeddings()\n",
    "k = 10 # Number of nearest neighbors\n",
    "\n",
    "# ef - the size of the dynamic list for the nearest neighbors (used during the search).\n",
    "# Higher = more accurate, but slower\n",
    "ef = 2000\n",
    "\n",
    "# M -  the number of bi-directional links created for every new element during construction.\n",
    "# 12-48 is good for most cases. \n",
    "# Highly related to dimensionality of the data.\n",
    "#   dim = 4 -> M = 6 - 12\n",
    "#   dim = 512 -> M = 48 - 64\n",
    "M = 32 "
   ]
  },
  {
   "cell_type": "code",
   "execution_count": 47,
   "metadata": {},
   "outputs": [],
   "source": [
    "hnsw_index = hnswlib.Index(space='cosine', dim=dim)\n",
    "hnsw_index.init_index(max_elements=num_elements, ef_construction=ef, M=M)\n",
    "hnsw_index.set_ef(ef)"
   ]
  },
  {
   "cell_type": "code",
   "execution_count": 6,
   "metadata": {},
   "outputs": [],
   "source": [
    "bf_index = hnswlib.BFIndex(space='cosine', dim=dim)\n",
    "bf_index.init_index(max_elements=num_elements)\n",
    "\n",
    "bf_index_initialized = False"
   ]
  },
  {
   "cell_type": "code",
   "execution_count": 48,
   "metadata": {},
   "outputs": [
    {
     "name": "stderr",
     "output_type": "stream",
     "text": [
      "100%|██████████| 100175/100175 [07:13<00:00, 231.32it/s]\n"
     ]
    }
   ],
   "source": [
    "# Build index\n",
    "\n",
    "bar = tqdm.tqdm(total=num_elements)\n",
    "\n",
    "for batch in get_batched_description_embeddings_generator(1000):\n",
    "    appids, embeddings = zip(*batch)\n",
    "    embeddings = [mean_pooling(embedding) for embedding in embeddings]\n",
    "\n",
    "    hnsw_index.add_items(embeddings, appids)\n",
    "\n",
    "    if not bf_index_initialized:\n",
    "        bf_index.add_items(embeddings, appids)\n",
    "    \n",
    "    bar.update(len(batch))\n",
    "\n",
    "bar.close()\n",
    "bf_index_initialized = True"
   ]
  },
  {
   "cell_type": "code",
   "execution_count": 51,
   "metadata": {},
   "outputs": [
    {
     "name": "stdout",
     "output_type": "stream",
     "text": [
      "Querying hnsw index...took 9.85190091698314 seconds\n",
      "Querying brute force index...\n",
      "recall is : 0.9498\n"
     ]
    }
   ],
   "source": [
    "\n",
    "# Time batched queries (num_queries queries at a time)\n",
    "query_data = np.float32(np.random.random((num_queries, dim)))\n",
    "\n",
    "print(\"Querying hnsw index...\", end=\"\")\n",
    "hnsw_begin = time.perf_counter()\n",
    "labels_hnsw, distances_hnsw = hnsw_index.knn_query(query_data, k)\n",
    "hnsw_end = time.perf_counter()\n",
    "print(\"took\", hnsw_end - hnsw_begin, \"seconds\")\n",
    "\n",
    "print(\"Querying brute force index...\")\n",
    "labels_bf, distances_bf = bf_index.knn_query(query_data, k)\n",
    "\n",
    "correct = sum([1 for i in range(num_queries) for label in labels_hnsw[i] if label in labels_bf[i]])\n",
    "\n",
    "print(\"recall is :\", float(correct)/(k*num_queries))"
   ]
  },
  {
   "cell_type": "code",
   "execution_count": 52,
   "metadata": {},
   "outputs": [
    {
     "name": "stderr",
     "output_type": "stream",
     "text": [
      "  0%|          | 0/2000 [00:00<?, ?it/s]"
     ]
    },
    {
     "name": "stderr",
     "output_type": "stream",
     "text": [
      "100%|██████████| 2000/2000 [00:50<00:00, 39.64it/s]"
     ]
    },
    {
     "name": "stdout",
     "output_type": "stream",
     "text": [
      "Average time per query: 0.025140569918847177 seconds\n"
     ]
    },
    {
     "name": "stderr",
     "output_type": "stream",
     "text": [
      "\n"
     ]
    }
   ],
   "source": [
    "# Time individual queries\n",
    "# One timer on outer loop: 0.056638814979000016 seconds\n",
    "# Timer on inner loop:     0.05581076550566649 seconds\n",
    "query_data = np.float32(np.random.random((num_queries, dim)))\n",
    "\n",
    "total_time = 0.0\n",
    "\n",
    "for i in tqdm.trange(num_queries):\n",
    "    query = query_data[i]\n",
    "\n",
    "    hnsw_begin = time.perf_counter()\n",
    "    _ = hnsw_index.knn_query(query, k)\n",
    "    hnsw_end = time.perf_counter()\n",
    "\n",
    "    total_time += hnsw_end - hnsw_begin\n",
    "\n",
    "print(\"Average time per query:\", total_time / num_queries, \"seconds\")"
   ]
  },
  {
   "cell_type": "code",
   "execution_count": null,
   "metadata": {},
   "outputs": [],
   "source": []
  }
 ],
 "metadata": {
  "kernelspec": {
   "display_name": ".venv_03",
   "language": "python",
   "name": "python3"
  },
  "language_info": {
   "codemirror_mode": {
    "name": "ipython",
    "version": 3
   },
   "file_extension": ".py",
   "mimetype": "text/x-python",
   "name": "python",
   "nbconvert_exporter": "python",
   "pygments_lexer": "ipython3",
   "version": "3.11.6"
  }
 },
 "nbformat": 4,
 "nbformat_minor": 2
}
