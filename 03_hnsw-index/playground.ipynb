{
 "cells": [
  {
   "cell_type": "markdown",
   "metadata": {},
   "source": [
    "# Init"
   ]
  },
  {
   "cell_type": "code",
   "execution_count": 1,
   "metadata": {},
   "outputs": [
    {
     "name": "stderr",
     "output_type": "stream",
     "text": [
      "/home/danielperry/repos/steam-natural-search/03_hnsw-index/.venv_03/lib/python3.10/site-packages/tqdm/auto.py:21: TqdmWarning: IProgress not found. Please update jupyter and ipywidgets. See https://ipywidgets.readthedocs.io/en/stable/user_install.html\n",
      "  from .autonotebook import tqdm as notebook_tqdm\n"
     ]
    }
   ],
   "source": [
    "import hnswlib\n",
    "import numpy as np\n",
    "import sqlite3\n",
    "import pickle\n",
    "#import tqdm\n",
    "from tqdm.auto import tqdm, trange\n",
    "import time"
   ]
  },
  {
   "cell_type": "code",
   "execution_count": 2,
   "metadata": {},
   "outputs": [],
   "source": [
    "# Open the database\n",
    "conn = sqlite3.connect('../steam_instructor-xl.db')"
   ]
  },
  {
   "cell_type": "code",
   "execution_count": 9,
   "metadata": {},
   "outputs": [],
   "source": [
    "# Helper functions\n",
    "\n",
    "def get_any_description_embedding():\n",
    "    c = conn.cursor()\n",
    "\n",
    "    c.execute(f'''\n",
    "        SELECT embedding FROM description_embeddings LIMIT 1\n",
    "    ''')\n",
    "    results = c.fetchone()[0]\n",
    "\n",
    "    c.close()\n",
    "\n",
    "    return pickle.loads(results)\n",
    "\n",
    "def get_description_embeddings_for_appid(appid):\n",
    "    c = conn.cursor()\n",
    "\n",
    "    c.execute(f'''\n",
    "        SELECT embedding FROM description_embeddings WHERE appid = ?\n",
    "    ''', (appid,))\n",
    "    results = c.fetchone()[0]\n",
    "\n",
    "    c.close()\n",
    "\n",
    "    return pickle.loads(results)\n",
    "\n",
    "def get_review_embeddings_for_appid(appid):\n",
    "    c = conn.cursor()\n",
    "\n",
    "    c.execute(f'''\n",
    "        SELECT recommendationid, embedding\n",
    "        FROM review_embeddings\n",
    "        WHERE appid = ?\n",
    "    ''', (appid,))\n",
    "    results = c.fetchall()\n",
    "\n",
    "    c.close()\n",
    "\n",
    "    return {recommendationid: pickle.loads(embedding) for recommendationid, embedding in results}\n",
    "\n",
    "def get_count_appids_with_description_embeddings():\n",
    "    c = conn.cursor()\n",
    "\n",
    "    c.execute(f'''\n",
    "        SELECT COUNT(DISTINCT appid) FROM description_embeddings\n",
    "    ''')\n",
    "    results = c.fetchone()[0]\n",
    "\n",
    "    c.close()\n",
    "\n",
    "    return results\n",
    "\n",
    "def get_count_appids_with_review_embeddings():\n",
    "    c = conn.cursor()\n",
    "\n",
    "    c.execute(f'''\n",
    "        SELECT COUNT(DISTINCT appid) FROM review_embeddings\n",
    "    ''')\n",
    "    results = c.fetchone()[0]\n",
    "\n",
    "    c.close()\n",
    "\n",
    "    return results\n",
    "\n",
    "def get_all_description_embeddings_generator(page_size):\n",
    "    c = conn.cursor()\n",
    "\n",
    "    c.execute(f'''\n",
    "        SELECT appid, embedding FROM description_embeddings\n",
    "    ''')\n",
    "\n",
    "    while True:\n",
    "        results = c.fetchmany(page_size)\n",
    "        if not results:\n",
    "            break\n",
    "        for appid, embedding in results:\n",
    "            yield appid, pickle.loads(embedding)\n",
    "\n",
    "    c.close()\n",
    "\n",
    "def get_batched_description_embeddings_generator(page_size):\n",
    "    c = conn.cursor()\n",
    "\n",
    "    c.execute(f'''\n",
    "        SELECT appid, embedding FROM description_embeddings\n",
    "    ''')\n",
    "\n",
    "    while True:\n",
    "        results = c.fetchmany(page_size)\n",
    "        if not results:\n",
    "            break\n",
    "        yield [(appid, pickle.loads(embedding)) for appid, embedding in results]\n",
    "\n",
    "    c.close()\n",
    "\n",
    "def get_all_review_embeddings_generator(page_size):\n",
    "    c = conn.cursor()\n",
    "\n",
    "    c.execute(f'''\n",
    "        SELECT appid, embedding FROM review_embeddings\n",
    "    ''')\n",
    "\n",
    "    while True:\n",
    "        results = c.fetchmany(page_size)\n",
    "        if not results:\n",
    "            break\n",
    "        for appid, embedding in results:\n",
    "            yield appid, pickle.loads(embedding)\n",
    "\n",
    "    c.close()\n",
    "\n",
    "def get_appids_with_reviews():\n",
    "    c = conn.cursor()\n",
    "\n",
    "    c.execute(f'''\n",
    "        SELECT DISTINCT appid FROM review_embeddings\n",
    "    ''')\n",
    "\n",
    "    results = c.fetchall()\n",
    "\n",
    "    c.close()\n",
    "\n",
    "    return [appid for appid, in results]\n",
    "\n",
    "def mean_pooling(embeddings):\n",
    "    return np.sum(embeddings, axis=0) / len(embeddings)\n",
    "\n",
    "def get_pooled_description_embedding_for_appid(appid):\n",
    "    return mean_pooling(get_description_embeddings_for_appid(appid))\n",
    "\n",
    "def get_pooled_review_embeddings_for_appid(appid):\n",
    "    all_review_embeddings = get_review_embeddings_for_appid(appid)\n",
    "    flat_review_embeddings = [review_embedding for review_id in all_review_embeddings for review_embedding in all_review_embeddings[review_id]]\n",
    "    return mean_pooling(flat_review_embeddings)\n",
    "\n",
    "def get_reviews_by_appid_batched(page_size=1000):\n",
    "    appids = get_appids_with_reviews()\n",
    "\n",
    "    for i in range(0, len(appids), page_size):\n",
    "        yield [(appid, get_pooled_review_embeddings_for_appid(appid)) for appid in appids[i:i+page_size]]\n",
    "\n",
    "\n",
    "\n",
    "def get_index_dimension():\n",
    "    return len(get_any_description_embedding()[0])"
   ]
  },
  {
   "cell_type": "markdown",
   "metadata": {},
   "source": [
    "# Recall Testing"
   ]
  },
  {
   "cell_type": "markdown",
   "metadata": {},
   "source": [
    "## Description Embeddings"
   ]
  },
  {
   "cell_type": "markdown",
   "metadata": {},
   "source": [
    "### `cosine` Distance\n",
    "\n",
    "**Results Table**  \n",
    "\n",
    "| k  | ef  | M  | recall | time to build | query time (batched) | query time (individual) |\n",
    "|----|-----|----|--------|---------------|----------------------|-------------------------|\n",
    "| 10 | 200 | 54 | 55-56% | N/A | N/A | N/A |\n",
    "| 10 | 400 | 48 | 77%  | N/A | N/A | N/A |\n",
    "| 10 | 800 | 48 | 88% | `4m15s`* (?) | N/A | N/A |\n",
    "| 10 | 2000 | 32 | 93% | `2m22s` | `4s` total / `2ms` per query | `4.8ms` per query |\n",
    "| 10 | 2000 | 48 | 95% | `7m53s`* | `11s`* total / `5.5ms` per query | N/A |\n",
    "| 10 | 5000 | 28 | 97.7% | `4m14s` | `8.8s` total / `4.4ms` per query | `10.5ms` per query |\n",
    "\n",
    "<!-- not enough queries made -->\n",
    "<!--| 10 | 200 | 48 | ~56%    |-->\n",
    "\n",
    "(?) - Seems suspect  \n",
    "\\* - Numbers from M1 MBP, slower than rest (which is Ryzen 7 5800X)"
   ]
  },
  {
   "cell_type": "markdown",
   "metadata": {},
   "source": [
    "### `l2` Distance\n",
    "\n",
    "**Results Table**\n",
    "\n",
    "| k  | ef  | M  | recall | time to build | query time (batched) | query time (individual) |\n",
    "|----|-----|----|--------|---------------|----------------------|-------------------------|\n",
    "| 10 | 2000 | 28 | 93% | `2m15s` | `3.2s` total | `4.44ms` per query |"
   ]
  },
  {
   "cell_type": "markdown",
   "metadata": {},
   "source": [
    "## Review Embeddings"
   ]
  },
  {
   "cell_type": "markdown",
   "metadata": {},
   "source": [
    "### `cosine` Distance\n",
    "\n",
    "**Results Table**  \n",
    "\n",
    "| k  | ef  | M  | recall | time to build | query time (batched) | query time (individual) |\n",
    "|----|-----|----|--------|---------------|----------------------|-------------------------|\n",
    "| 10 | 2000 | 28 | 57% | `1m6s` | `1.14s` | `2.14ms` |\n",
    "| 10 | 2000 | 48 | 57% | `1m10s` | `1.18s` |  |\n",
    "| 10 | 10000 | 28 | 88% | `3m22s` | `7.9s` | `11.66ms` |\n",
    "| 10 | 10000 | 48 | 89% | `3m26s` | `8s` | `11.9ms` |\n",
    "| 10 | 15000 | 28 | 92% | `4m13s` | `10s` | `15.4ms` |"
   ]
  },
  {
   "cell_type": "markdown",
   "metadata": {},
   "source": [
    "## Code"
   ]
  },
  {
   "cell_type": "code",
   "execution_count": 4,
   "metadata": {},
   "outputs": [],
   "source": [
    "num_queries = 2000"
   ]
  },
  {
   "cell_type": "code",
   "execution_count": 5,
   "metadata": {},
   "outputs": [],
   "source": [
    "dim = get_index_dimension()\n",
    "\n",
    "indexing = 'review'\n",
    "\n",
    "if indexing == 'description':\n",
    "  num_elements = get_count_appids_with_description_embeddings()\n",
    "elif indexing == 'review':\n",
    "  num_elements = get_count_appids_with_review_embeddings()\n",
    "else:\n",
    "  raise Exception('Invalid indexing')\n",
    "\n",
    "k = 10 # Number of nearest neighbors\n",
    "\n",
    "alg = 'cosine' # can be 'l2', 'ip' or 'cosine'\n",
    "\n",
    "# ef - the size of the dynamic list for the nearest neighbors (used during the search).\n",
    "# Higher = more accurate, but slower\n",
    "ef = 15000\n",
    "\n",
    "# M -  the number of bi-directional links created for every new element during construction.\n",
    "# 12-48 is good for most cases. \n",
    "# Highly related to dimensionality of the data.\n",
    "#   dim = 4 -> M = 6 - 12\n",
    "#   dim = 512 -> M = 48 - 64\n",
    "M = 28"
   ]
  },
  {
   "cell_type": "code",
   "execution_count": 6,
   "metadata": {},
   "outputs": [],
   "source": [
    "hnsw_index = hnswlib.Index(space=alg, dim=dim)\n",
    "hnsw_index.init_index(max_elements=num_elements, ef_construction=ef, M=M)\n",
    "hnsw_index.set_ef(ef)"
   ]
  },
  {
   "cell_type": "code",
   "execution_count": 7,
   "metadata": {},
   "outputs": [],
   "source": [
    "bf_index = hnswlib.BFIndex(space=alg, dim=dim)\n",
    "bf_index.init_index(max_elements=num_elements)\n",
    "\n",
    "bf_index_initialized = False"
   ]
  },
  {
   "cell_type": "markdown",
   "metadata": {},
   "source": [
    "### Build Description Embeddings Index"
   ]
  },
  {
   "cell_type": "code",
   "execution_count": 8,
   "metadata": {},
   "outputs": [
    {
     "name": "stderr",
     "output_type": "stream",
     "text": [
      "100%|██████████| 74155/74155 [04:13<00:00, 291.95it/s] \n"
     ]
    }
   ],
   "source": [
    "bar = tqdm(total=num_elements, smoothing=0.1)\n",
    "\n",
    "if indexing == 'description':\n",
    "    for batch in get_batched_description_embeddings_generator(1000):\n",
    "        appids, embeddings = zip(*batch)\n",
    "        embeddings = [mean_pooling(embedding) for embedding in embeddings]\n",
    "\n",
    "        hnsw_index.add_items(embeddings, appids)\n",
    "\n",
    "        if not bf_index_initialized:\n",
    "            bf_index.add_items(embeddings, appids)\n",
    "        \n",
    "        bar.update(len(batch))\n",
    "elif indexing == 'review':\n",
    "    for batch in get_reviews_by_appid_batched(page_size=1000):\n",
    "        appids, embeddings = zip(*batch)\n",
    "\n",
    "        hnsw_index.add_items(embeddings, appids)\n",
    "\n",
    "        if not bf_index_initialized:\n",
    "            bf_index.add_items(embeddings, appids)\n",
    "        \n",
    "        bar.update(len(batch))\n",
    "\n",
    "bar.close()\n",
    "bf_index_initialized = True"
   ]
  },
  {
   "cell_type": "markdown",
   "metadata": {},
   "source": [
    "### Test"
   ]
  },
  {
   "cell_type": "code",
   "execution_count": 12,
   "metadata": {},
   "outputs": [
    {
     "name": "stdout",
     "output_type": "stream",
     "text": [
      "Querying hnsw index...took 9.944127280963585 seconds\n",
      "Querying brute force index...\n",
      "recall is : 0.91985\n"
     ]
    }
   ],
   "source": [
    "\n",
    "# Time batched queries (num_queries queries at a time)\n",
    "query_data = np.float32(np.random.random((num_queries, dim)))\n",
    "\n",
    "print(\"Querying hnsw index...\", end=\"\")\n",
    "hnsw_begin = time.perf_counter()\n",
    "labels_hnsw, distances_hnsw = hnsw_index.knn_query(query_data, k)\n",
    "hnsw_end = time.perf_counter()\n",
    "print(\"took\", hnsw_end - hnsw_begin, \"seconds\")\n",
    "\n",
    "print(\"Querying brute force index...\")\n",
    "labels_bf, distances_bf = bf_index.knn_query(query_data, k)\n",
    "\n",
    "correct = sum([1 for i in range(num_queries) for label in labels_hnsw[i] if label in labels_bf[i]])\n",
    "\n",
    "print(\"recall is :\", float(correct)/(k*num_queries))"
   ]
  },
  {
   "cell_type": "code",
   "execution_count": 11,
   "metadata": {},
   "outputs": [
    {
     "name": "stderr",
     "output_type": "stream",
     "text": [
      "100%|██████████| 2000/2000 [00:30<00:00, 64.68it/s]"
     ]
    },
    {
     "name": "stdout",
     "output_type": "stream",
     "text": [
      "Average time per query: 0.01538519425864797 seconds\n"
     ]
    },
    {
     "name": "stderr",
     "output_type": "stream",
     "text": [
      "\n"
     ]
    }
   ],
   "source": [
    "# Time individual queries\n",
    "# One timer on outer loop: 0.056638814979000016 seconds\n",
    "# Timer on inner loop:     0.05581076550566649 seconds\n",
    "query_data = np.float32(np.random.random((num_queries, dim)))\n",
    "\n",
    "total_time = 0.0\n",
    "\n",
    "for i in trange(num_queries):\n",
    "    query = query_data[i]\n",
    "\n",
    "    hnsw_begin = time.perf_counter()\n",
    "    _ = hnsw_index.knn_query(query, k)\n",
    "    hnsw_end = time.perf_counter()\n",
    "\n",
    "    total_time += hnsw_end - hnsw_begin\n",
    "\n",
    "print(\"Average time per query:\", total_time / num_queries, \"seconds\")"
   ]
  },
  {
   "cell_type": "code",
   "execution_count": null,
   "metadata": {},
   "outputs": [],
   "source": []
  }
 ],
 "metadata": {
  "kernelspec": {
   "display_name": ".venv_03",
   "language": "python",
   "name": "python3"
  },
  "language_info": {
   "codemirror_mode": {
    "name": "ipython",
    "version": 3
   },
   "file_extension": ".py",
   "mimetype": "text/x-python",
   "name": "python",
   "nbconvert_exporter": "python",
   "pygments_lexer": "ipython3",
   "version": "3.10.12"
  }
 },
 "nbformat": 4,
 "nbformat_minor": 2
}
